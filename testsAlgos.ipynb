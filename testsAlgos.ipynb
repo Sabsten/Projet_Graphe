{
 "cells": [
  {
   "cell_type": "markdown",
   "metadata": {},
   "source": [
    "## Génération de la matrice de distances"
   ]
  },
  {
   "cell_type": "code",
   "execution_count": 2,
   "metadata": {},
   "outputs": [
    {
     "name": "stdout",
     "output_type": "stream",
     "text": [
      "Choix du département pour la tournée : 60\n"
     ]
    },
    {
     "data": {
      "text/html": [
       "<div>\n",
       "<style scoped>\n",
       "    .dataframe tbody tr th:only-of-type {\n",
       "        vertical-align: middle;\n",
       "    }\n",
       "\n",
       "    .dataframe tbody tr th {\n",
       "        vertical-align: top;\n",
       "    }\n",
       "\n",
       "    .dataframe thead th {\n",
       "        text-align: right;\n",
       "    }\n",
       "</style>\n",
       "<table border=\"1\" class=\"dataframe\">\n",
       "  <thead>\n",
       "    <tr style=\"text-align: right;\">\n",
       "      <th></th>\n",
       "      <th>0</th>\n",
       "      <th>1</th>\n",
       "      <th>2</th>\n",
       "      <th>3</th>\n",
       "      <th>4</th>\n",
       "      <th>5</th>\n",
       "      <th>6</th>\n",
       "      <th>7</th>\n",
       "      <th>8</th>\n",
       "      <th>9</th>\n",
       "    </tr>\n",
       "  </thead>\n",
       "  <tbody>\n",
       "    <tr>\n",
       "      <th>0</th>\n",
       "      <td>0</td>\n",
       "      <td>32</td>\n",
       "      <td>49</td>\n",
       "      <td>27</td>\n",
       "      <td>41</td>\n",
       "      <td>24</td>\n",
       "      <td>38</td>\n",
       "      <td>54</td>\n",
       "      <td>52</td>\n",
       "      <td>52</td>\n",
       "    </tr>\n",
       "    <tr>\n",
       "      <th>1</th>\n",
       "      <td>32</td>\n",
       "      <td>0</td>\n",
       "      <td>35</td>\n",
       "      <td>5</td>\n",
       "      <td>10</td>\n",
       "      <td>10</td>\n",
       "      <td>47</td>\n",
       "      <td>72</td>\n",
       "      <td>26</td>\n",
       "      <td>22</td>\n",
       "    </tr>\n",
       "    <tr>\n",
       "      <th>2</th>\n",
       "      <td>49</td>\n",
       "      <td>35</td>\n",
       "      <td>0</td>\n",
       "      <td>35</td>\n",
       "      <td>32</td>\n",
       "      <td>42</td>\n",
       "      <td>32</td>\n",
       "      <td>101</td>\n",
       "      <td>21</td>\n",
       "      <td>31</td>\n",
       "    </tr>\n",
       "    <tr>\n",
       "      <th>3</th>\n",
       "      <td>27</td>\n",
       "      <td>5</td>\n",
       "      <td>35</td>\n",
       "      <td>0</td>\n",
       "      <td>14</td>\n",
       "      <td>7</td>\n",
       "      <td>44</td>\n",
       "      <td>69</td>\n",
       "      <td>28</td>\n",
       "      <td>26</td>\n",
       "    </tr>\n",
       "    <tr>\n",
       "      <th>4</th>\n",
       "      <td>41</td>\n",
       "      <td>10</td>\n",
       "      <td>32</td>\n",
       "      <td>14</td>\n",
       "      <td>0</td>\n",
       "      <td>20</td>\n",
       "      <td>51</td>\n",
       "      <td>81</td>\n",
       "      <td>17</td>\n",
       "      <td>12</td>\n",
       "    </tr>\n",
       "    <tr>\n",
       "      <th>5</th>\n",
       "      <td>24</td>\n",
       "      <td>10</td>\n",
       "      <td>42</td>\n",
       "      <td>7</td>\n",
       "      <td>20</td>\n",
       "      <td>0</td>\n",
       "      <td>48</td>\n",
       "      <td>62</td>\n",
       "      <td>36</td>\n",
       "      <td>32</td>\n",
       "    </tr>\n",
       "    <tr>\n",
       "      <th>6</th>\n",
       "      <td>38</td>\n",
       "      <td>47</td>\n",
       "      <td>32</td>\n",
       "      <td>44</td>\n",
       "      <td>51</td>\n",
       "      <td>48</td>\n",
       "      <td>0</td>\n",
       "      <td>91</td>\n",
       "      <td>49</td>\n",
       "      <td>56</td>\n",
       "    </tr>\n",
       "    <tr>\n",
       "      <th>7</th>\n",
       "      <td>54</td>\n",
       "      <td>72</td>\n",
       "      <td>101</td>\n",
       "      <td>69</td>\n",
       "      <td>81</td>\n",
       "      <td>62</td>\n",
       "      <td>91</td>\n",
       "      <td>0</td>\n",
       "      <td>98</td>\n",
       "      <td>93</td>\n",
       "    </tr>\n",
       "    <tr>\n",
       "      <th>8</th>\n",
       "      <td>52</td>\n",
       "      <td>26</td>\n",
       "      <td>21</td>\n",
       "      <td>28</td>\n",
       "      <td>17</td>\n",
       "      <td>36</td>\n",
       "      <td>49</td>\n",
       "      <td>98</td>\n",
       "      <td>0</td>\n",
       "      <td>10</td>\n",
       "    </tr>\n",
       "    <tr>\n",
       "      <th>9</th>\n",
       "      <td>52</td>\n",
       "      <td>22</td>\n",
       "      <td>31</td>\n",
       "      <td>26</td>\n",
       "      <td>12</td>\n",
       "      <td>32</td>\n",
       "      <td>56</td>\n",
       "      <td>93</td>\n",
       "      <td>10</td>\n",
       "      <td>0</td>\n",
       "    </tr>\n",
       "  </tbody>\n",
       "</table>\n",
       "</div>"
      ],
      "text/plain": [
       "    0   1    2   3   4   5   6    7   8   9\n",
       "0   0  32   49  27  41  24  38   54  52  52\n",
       "1  32   0   35   5  10  10  47   72  26  22\n",
       "2  49  35    0  35  32  42  32  101  21  31\n",
       "3  27   5   35   0  14   7  44   69  28  26\n",
       "4  41  10   32  14   0  20  51   81  17  12\n",
       "5  24  10   42   7  20   0  48   62  36  32\n",
       "6  38  47   32  44  51  48   0   91  49  56\n",
       "7  54  72  101  69  81  62  91    0  98  93\n",
       "8  52  26   21  28  17  36  49   98   0  10\n",
       "9  52  22   31  26  12  32  56   93  10   0"
      ]
     },
     "execution_count": 2,
     "metadata": {},
     "output_type": "execute_result"
    }
   ],
   "source": [
    "from random import *\n",
    "import pandas\n",
    "from generateMatrix import generateMatrix\n",
    "\n",
    "grapheTable = []\n",
    "PointsLivraisonTable = []\n",
    "\n",
    "#génération aléatoire des villes\n",
    "DepartementTravail = randint(1,93)\n",
    "\n",
    "#génération des matrices de degré différents\n",
    "listeDegre = [10,20,30,40,50,65,80,100,120,140]\n",
    "\n",
    "for degre in listeDegre:\n",
    "    MatriceDistances, PointsLivraison = generateMatrix(DepartementTravail, degre)\n",
    "    grapheTable.append(MatriceDistances)\n",
    "    PointsLivraisonTable.append(PointsLivraison)\n",
    "\n",
    "print(f\"Choix du département pour la tournée : {str(DepartementTravail)}\")\n",
    "\n",
    "# Affichage de la matrice 140x140\n",
    "pandas.DataFrame(grapheTable[0])"
   ]
  },
  {
   "cell_type": "markdown",
   "metadata": {},
   "source": [
    "## I - Choix des algorithmes"
   ]
  },
  {
   "cell_type": "code",
   "execution_count": 5,
   "metadata": {},
   "outputs": [
    {
     "name": "stdout",
     "output_type": "stream",
     "text": [
      "---DONE---\n"
     ]
    }
   ],
   "source": [
    "#import algorithmes\n",
    "from Algorithms.tabu import tabu_method\n",
    "from Algorithms.genetic import genetic_method\n",
    "from Algorithms.antColony import antColony_method\n",
    "from generateMaps import generateMaps\n",
    "\n",
    "# Variables partagés par tous les algorithmes\n",
    "vehicules = 5\n",
    "\n",
    "# Variables partagés entre l'algorithme tabou et l'algorithme genetique\n",
    "maxIterations = 1\n",
    "\n",
    "# Variables de l'algorithme génétique\n",
    "mutationRate = 1\n",
    "populationSize = 40\n",
    "maxGen = 10000\n",
    "\n",
    "# Vitesse moyenne camion\n",
    "vitesseMoyenne = 80\n",
    "\n",
    "print(\"---DONE---\")"
   ]
  },
  {
   "cell_type": "code",
   "execution_count": 3,
   "metadata": {},
   "outputs": [],
   "source": [
    "# Methode pour convertir un temps unitaire en heure et minute\n",
    "def convertHeure(t):\n",
    "    min = (t - int(t))\n",
    "    t = t - min\n",
    "    return [round(t), round(min * 60)]\n",
    "\n",
    "# Methode pour afficher les résultats\n",
    "def printer(route, dist):\n",
    "    \"\"\" Affiche les résultats d'un algorithme \"\"\"\n",
    "    globalDist = 0\n",
    "    globalTime = 0\n",
    "    for i in range(len(route)):\n",
    "        t = dist[i]/vitesseMoyenne\n",
    "        time = convertHeure(t)\n",
    "        print(f\"camion {i+1} : {route[i+1]} || distance = {dist[i]} km || temps = {time[0]} h {time[1]} min\")\n",
    "        globalDist += dist[i]\n",
    "        globalTime += t\n",
    "    globalTime = convertHeure(globalTime)\n",
    "    print(f\"Total distance = {globalDist} km || Total temps = {globalTime[0]} h {globalTime[1]} min\")\n",
    "    print(\"\\n\")\n",
    "\n"
   ]
  },
  {
   "cell_type": "markdown",
   "metadata": {},
   "source": [
    "## Tabou"
   ]
  },
  {
   "cell_type": "code",
   "execution_count": 10,
   "metadata": {
    "scrolled": true,
    "tags": []
   },
   "outputs": [
    {
     "name": "stdout",
     "output_type": "stream",
     "text": [
      "camion 1 : [0, 3, 4, 13, 16, 14, 19, 2, 0] || distance = 304 km || temps = 3 h 48 min\n",
      "camion 2 : [0, 1, 6, 7, 9, 18, 12, 0] || distance = 175 km || temps = 2 h 11 min\n",
      "camion 3 : [0, 17, 15, 10, 8, 11, 5, 0] || distance = 184 km || temps = 2 h 18 min\n",
      "Total distance = 663 km || Total temps = 8 h 17 min\n",
      "\n",
      "\n"
     ]
    }
   ],
   "source": [
    "tabu_route, tabu_dist = tabu_method(grapheTable[1], vehicules, maxIterations)\n",
    "printer(tabu_route, tabu_dist)\n",
    "# Décommenter le code ci-dessous pour avoir un carte avec la solution\n",
    "generateMaps(tabu_route, PointsLivraisonTable[1], \"tabu\")"
   ]
  },
  {
   "cell_type": "markdown",
   "metadata": {},
   "source": [
    "## Colonie de fourmis"
   ]
  },
  {
   "cell_type": "code",
   "execution_count": 49,
   "metadata": {},
   "outputs": [
    {
     "name": "stdout",
     "output_type": "stream",
     "text": [
      "camion 1 : [0, 16, 15, 18, 10, 0] || distance = 223 km || temps = 2 h 47 min\n",
      "camion 2 : [0, 9, 14, 13, 5, 0] || distance = 216 km || temps = 2 h 42 min\n",
      "camion 3 : [0, 7, 3, 4, 2, 0] || distance = 163 km || temps = 2 h 2 min\n",
      "camion 4 : [0, 12, 8, 17, 6, 0] || distance = 148 km || temps = 1 h 51 min\n",
      "camion 5 : [0, 19, 1, 11, 0] || distance = 194 km || temps = 2 h 25 min\n",
      "Total distance = 944 km || Total temps = 11 h 48 min\n",
      "\n",
      "\n"
     ]
    }
   ],
   "source": [
    "ant_route, ant_dist = antColony_method(grapheTable[1], vehicules)\n",
    "printer(ant_route, ant_dist)\n",
    "\n",
    "# Décommenter le code ci-dessous pour avoir un carte avec la solution\n",
    "# generateMaps(ant_route, PointsLivraisonTable[1], \"antColony\")"
   ]
  },
  {
   "cell_type": "markdown",
   "metadata": {},
   "source": [
    "## Génétique"
   ]
  },
  {
   "cell_type": "code",
   "execution_count": 50,
   "metadata": {},
   "outputs": [
    {
     "name": "stdout",
     "output_type": "stream",
     "text": [
      "camion 1 : [0, 7, 18, 3, 12, 0] || distance = 140 km || temps = 1 h 45 min\n",
      "camion 2 : [0, 15, 0] || distance = 160 km || temps = 2 h 0 min\n",
      "camion 3 : [0, 14, 11, 0] || distance = 149 km || temps = 1 h 52 min\n",
      "camion 4 : [0, 6, 8, 4, 2, 19, 10, 9, 17, 0] || distance = 149 km || temps = 1 h 52 min\n",
      "camion 5 : [0, 16, 1, 13, 5, 0] || distance = 143 km || temps = 1 h 47 min\n",
      "Total distance = 741 km || Total temps = 9 h 16 min\n",
      "\n",
      "\n"
     ]
    }
   ],
   "source": [
    "genetic_route, genetic_dist = genetic_method(mutationRate, populationSize, maxGen, maxIterations, vehicules, grapheTable[1])\n",
    "printer(genetic_route, genetic_dist)\n",
    "\n",
    "# Décommenter le code ci-dessous pour avoir un carte avec la solution\n",
    "# generateMaps(genetic_route, PointsLivraisonTable[1], \"genetic\")"
   ]
  },
  {
   "cell_type": "markdown",
   "metadata": {},
   "source": [
    "## Comparaison des performances des 3 algorithmes (Tabou, Colonie de fourmis, Génétique)"
   ]
  },
  {
   "cell_type": "code",
   "execution_count": 11,
   "metadata": {},
   "outputs": [
    {
     "name": "stdout",
     "output_type": "stream",
     "text": [
      "---DONE---\n"
     ]
    }
   ],
   "source": [
    "import time\n",
    "\n",
    "#evaluation du temps d'exécution et du résultat\n",
    "timeTabou = []\n",
    "timeFourmi = []\n",
    "timeGenetic = []\n",
    "worstTabou = []\n",
    "worstFourmi = []\n",
    "worstGenetic = []\n",
    "\n",
    "for graphe in grapheTable:\n",
    "    #evaluation tabou\n",
    "    t = time.process_time()\n",
    "    tabu_route, tabu_dist = tabu_method(graphe, vehicules, maxIterations)\n",
    "    elapsed_time = time.process_time() - t\n",
    "    timeTabou.append(elapsed_time)\n",
    "    worstTabou.append(max(tabu_dist))\n",
    "\n",
    "    #evaluation colonie de fourmis\n",
    "    t = time.process_time()\n",
    "    ant_route, ant_dist = antColony_method(graphe, vehicules)\n",
    "    elapsed_time = time.process_time() - t\n",
    "    timeFourmi.append(elapsed_time)\n",
    "    worstFourmi.append(max(ant_dist))\n",
    "    \n",
    "    #evaluation génétique\n",
    "    t = time.process_time()\n",
    "    genetic_route, genetic_dist = genetic_method(mutationRate, populationSize, maxGen, maxIterations, vehicules, graphe)\n",
    "    elapsed_time = time.process_time() - t\n",
    "    timeGenetic.append(elapsed_time)\n",
    "    worstGenetic.append(max(genetic_dist))\n",
    "\n",
    "print(\"---DONE---\")"
   ]
  },
  {
   "cell_type": "code",
   "execution_count": 12,
   "metadata": {},
   "outputs": [
    {
     "data": {
      "image/png": "[encoded data removed]",
      "text/plain": [
       "<Figure size 432x288 with 1 Axes>"
      ]
     },
     "metadata": {
      "needs_background": "light"
     },
     "output_type": "display_data"
    }
   ],
   "source": [
    "import matplotlib.pyplot as plt\n",
    "\n",
    "#graphe temps d'exécution\n",
    "plt.plot(listeDegre,timeTabou)\n",
    "plt.plot(listeDegre,timeFourmi)\n",
    "plt.plot(listeDegre,timeGenetic)\n",
    "\n",
    "plt.legend(['Tabou', 'Colonie de fourmis', 'Génétique'])\n",
    "plt.xlabel(\"Taille du graphe\")\n",
    "plt.ylabel(\"Temps d'exécution (en secondes)\")\n",
    "plt.xlim([10, 140])\n",
    "\n",
    "plt.show()"
   ]
  },
  {
   "cell_type": "code",
   "execution_count": 14,
   "metadata": {},
   "outputs": [
    {
     "data": {
      "image/png": "[encoded data removed]",
      "text/plain": [
       "<Figure size 432x288 with 1 Axes>"
      ]
     },
     "metadata": {
      "needs_background": "light"
     },
     "output_type": "display_data"
    }
   ],
   "source": [
    "#graphe pire cas possible\n",
    "plt.plot(listeDegre,worstTabou)\n",
    "plt.plot(listeDegre,worstFourmi)\n",
    "plt.plot(listeDegre,worstGenetic)\n",
    "\n",
    "plt.legend(['Tabou', 'Colonie de fourmis', 'Génétique'])\n",
    "plt.xlabel(\"Taille du graphe\")\n",
    "plt.ylabel(\"Pire cas de fin de tournée\")\n",
    "plt.xlim([10, 140])\n",
    "\n",
    "plt.show()"
   ]
  },
  {
   "cell_type": "markdown",
   "metadata": {},
   "source": [
    "## Algorithme heuristique de OR-Tools"
   ]
  },
  {
   "cell_type": "code",
   "execution_count": 11,
   "metadata": {},
   "outputs": [
    {
     "name": "stdout",
     "output_type": "stream",
     "text": [
      "camion 1 : [0, 6, 2, 12, 18, 15, 17, 0] || distance = 168 km || temps = 2 h 6 min\n",
      "camion 2 : [0, 16, 13, 4, 14, 0] || distance = 95 km || temps = 1 h 11 min\n",
      "camion 3 : [0, 3, 9, 8, 10, 19, 5, 11, 7, 1, 0] || distance = 167 km || temps = 2 h 5 min\n",
      "Total distance = 430 km || Total temps = 5 h 22 min\n",
      "\n",
      "\n"
     ]
    }
   ],
   "source": [
    "from Algorithms.or_tools import ortool_method\n",
    "\n",
    "ortools_heuristic_route, ortools_heuristic_dist = ortool_method(grapheTable[1], vehicules)\n",
    "printer(ortools_heuristic_route, ortools_heuristic_dist)\n",
    "\n",
    "# Décommenter le code ci-dessous pour avoir un carte avec la solution\n",
    "generateMaps(ortools_heuristic_route, PointsLivraisonTable[1], \"ortools_heuristic\")"
   ]
  },
  {
   "cell_type": "markdown",
   "metadata": {},
   "source": [
    "## Comparatif entre le tabou et la méthode heuristique de OR-Tools"
   ]
  },
  {
   "cell_type": "code",
   "execution_count": 10,
   "metadata": {},
   "outputs": [
    {
     "name": "stdout",
     "output_type": "stream",
     "text": [
      "---DONE---\n"
     ]
    }
   ],
   "source": [
    "import time\n",
    "#evaluation du temps d'exécution et du résultat\n",
    "Time_ortools = []\n",
    "Time_tabu = []\n",
    "Worst_ortools = []\n",
    "Worst_tabu = []\n",
    "TotalDistances_ortools = []\n",
    "TotalDistances_tabu = []\n",
    "\n",
    "for graphe in grapheTable:\n",
    "    #evaluation tabou OR-Tools\n",
    "    t = time.process_time()\n",
    "    ortools_route, ortools_distance = ortool_method(graphe, vehicules, \"default\", time_limit)\n",
    "    elapsed_time = time.process_time() - t\n",
    "    Time_ortools.append(elapsed_time)\n",
    "    Worst_ortools.append(max(ortools_distance))\n",
    "    TotalDistances_ortools.append(ortools_distance)\n",
    "\n",
    "    #evaluation tabou\n",
    "    t = time.process_time()\n",
    "    tabu_route, tabu_distance = tabu_method(graphe, vehicules, maxIterations)\n",
    "    elapsed_time = time.process_time() - t\n",
    "    Time_tabu.append(elapsed_time)\n",
    "    Worst_tabu.append(max(tabu_distance))\n",
    "    TotalDistances_tabu.append(tabu_distance)\n",
    "\n",
    "print(\"---DONE---\")"
   ]
  },
  {
   "cell_type": "code",
   "execution_count": 12,
   "metadata": {},
   "outputs": [
    {
     "data": {
      "image/png": "[encoded data removed]",
      "text/plain": [
       "<Figure size 432x288 with 1 Axes>"
      ]
     },
     "metadata": {
      "needs_background": "light"
     },
     "output_type": "display_data"
    }
   ],
   "source": [
    "import matplotlib.pyplot as plt\n",
    "\n",
    "#graphe temps d'exécution\n",
    "plt.plot(listeDegre,Time_ortools)\n",
    "plt.plot(listeDegre,Time_tabu)\n",
    "\n",
    "plt.legend(['OR-Tools heuristic', 'Tabu'])\n",
    "plt.xlabel(\"Taille du graphe\")\n",
    "plt.ylabel(\"Temps d'exécution (en secondes)\")\n",
    "plt.xlim([10, 140])\n",
    "\n",
    "plt.show()"
   ]
  },
  {
   "cell_type": "code",
   "execution_count": 13,
   "metadata": {},
   "outputs": [
    {
     "data": {
      "image/png": "[encoded data removed]",
      "text/plain": [
       "<Figure size 432x288 with 1 Axes>"
      ]
     },
     "metadata": {
      "needs_background": "light"
     },
     "output_type": "display_data"
    }
   ],
   "source": [
    "#graphe pire cas possible\n",
    "plt.plot(listeDegre,Worst_ortools)\n",
    "plt.plot(listeDegre,Worst_tabu)\n",
    "\n",
    "plt.legend(['OR-Tools heuristic', 'Tabu'])\n",
    "plt.xlabel(\"Taille du graphe\")\n",
    "plt.ylabel(\"Pire cas de fin de tournée\")\n",
    "plt.xlim([10, 140])\n",
    "\n",
    "plt.show()"
   ]
  },
  {
   "cell_type": "markdown",
   "metadata": {},
   "source": [
    "### Graphiques représentant la répartition de la distance de trajet entre chaque camions"
   ]
  },
  {
   "cell_type": "markdown",
   "metadata": {},
   "source": [
    "#### I - Heuristique de OR-Tools"
   ]
  },
  {
   "cell_type": "code",
   "execution_count": 71,
   "metadata": {},
   "outputs": [
    {
     "data": {
      "image/png": "[encoded data removed]",
      "text/plain": [
       "<Figure size 432x288 with 1 Axes>"
      ]
     },
     "metadata": {
      "needs_background": "light"
     },
     "output_type": "display_data"
    }
   ],
   "source": [
    "#graphe repartition camions\n",
    "plt.plot(listeDegre, TotalDistances_ortools,\"^\")\n",
    "\n",
    "plt.legend(['camion 1', 'camion 2', 'camion 3', 'camion 4'])\n",
    "plt.xlabel(\"Taille du graphe\")\n",
    "plt.ylabel(\"Repartition des trajets entre les camions\")\n",
    "plt.xlim([10, 140])\n",
    "plt.show()"
   ]
  },
  {
   "cell_type": "markdown",
   "metadata": {},
   "source": [
    "#### II - Algorithme Tabou"
   ]
  },
  {
   "cell_type": "code",
   "execution_count": 64,
   "metadata": {},
   "outputs": [
    {
     "data": {
      "image/png": "[encoded data removed]",
      "text/plain": [
       "<Figure size 432x288 with 1 Axes>"
      ]
     },
     "metadata": {
      "needs_background": "light"
     },
     "output_type": "display_data"
    }
   ],
   "source": [
    "plt.plot(listeDegre, TotalDistances_tabu, \"^\")\n",
    "plt.legend(['camion 1', 'camion 2', 'camion 3', 'camion 4'])\n",
    "plt.xlabel(\"Taille du graphe\")\n",
    "plt.ylabel(\"Repartition des trajets entre les camions\")\n",
    "plt.xlim([10, 140])\n",
    "plt.show()"
   ]
  },
  {
   "cell_type": "markdown",
   "metadata": {},
   "source": [
    "### Simulation réelle avec une contrainte de capacité\n"
   ]
  },
  {
   "cell_type": "code",
   "execution_count": 10,
   "metadata": {},
   "outputs": [
    {
     "name": "stdout",
     "output_type": "stream",
     "text": [
      "Camion 0 : route = [0, 15, 7, 14, 8, 5, 0] | 250 km parcourus en 3 h 8 min | capacitée maximale = 15\n",
      "Camion 1 : route = [0, 17, 2, 12, 6, 1, 18, 0] | 152 km parcourus en 1 h 54 min | capacitée maximale = 15\n",
      "Camion 2 : route = [0, 16, 4, 9, 3, 13, 19, 11, 10, 0] | 191 km parcourus en 2 h 23 min | capacitée maximale = 15\n"
     ]
    }
   ],
   "source": [
    "from Algorithms.or_tools_CVRP import ortool_CVRP_method\n",
    "\n",
    "nb_vehicules = 3\n",
    "# Nombre de colis a déposer par villes\n",
    "deliveries = [4, 2, 1, 3, 1, 2, 1, 2, 2, 1, 2, 1, 2, 1, 3, 2, 1, 3, 2, 1]\n",
    "# Nombre de colis maximum par camions\n",
    "camion_capacities = [15, 15, 15]\n",
    "\n",
    "cvrp_route, cvrp_dist, cvrp_load = ortool_CVRP_method(grapheTable[1], nb_vehicules, deliveries, camion_capacities)\n",
    "for i in range(nb_vehicules):\n",
    "    t = cvrp_dist[i]/vitesseMoyenne\n",
    "    T = convertHeure(t)\n",
    "    print(f\"Camion {i} : route = {cvrp_route[i+1]} | {cvrp_dist[i]} km parcourus en {T[0]} h {T[1]} min | capacitée maximale = {cvrp_load[i]}\")\n",
    "\n",
    "# Décommenter le code ci-dessous pour avoir un carte avec la solution\n",
    "# generateMaps(cvrp_route, PointsLivraisonTable[1], \"ortools_cvrp\")"
   ]
  }
 ],
 "metadata": {
  "kernelspec": {
   "display_name": "Python 3.9.13 64-bit",
   "language": "python",
   "name": "python3"
  },
  "language_info": {
   "codemirror_mode": {
    "name": "ipython",
    "version": 3
   },
   "file_extension": ".py",
   "mimetype": "text/x-python",
   "name": "python",
   "nbconvert_exporter": "python",
   "pygments_lexer": "ipython3",
   "version": "3.9.13"
  },
  "vscode": {
   "interpreter": {
    "hash": "8e284ee3255a07ad8bf76694974743c4c81cb57e7c969474d752d949b11d721e"
   }
  }
 },
 "nbformat": 4,
 "nbformat_minor": 2
}
