{
 "cells": [
  {
   "cell_type": "markdown",
   "metadata": {},
   "source": [
    "# Running all algorithms independently using generated dataset "
   ]
  },
  {
   "cell_type": "markdown",
   "metadata": {},
   "source": [
    "## Génération de la matrice de distances"
   ]
  },
  {
   "cell_type": "code",
   "execution_count": 2,
   "metadata": {},
   "outputs": [
    {
     "name": "stdout",
     "output_type": "stream",
     "text": [
      "Choix du département pour la tournée : 87\n"
     ]
    },
    {
     "data": {
      "text/html": [
       "<div>\n",
       "<style scoped>\n",
       "    .dataframe tbody tr th:only-of-type {\n",
       "        vertical-align: middle;\n",
       "    }\n",
       "\n",
       "    .dataframe tbody tr th {\n",
       "        vertical-align: top;\n",
       "    }\n",
       "\n",
       "    .dataframe thead th {\n",
       "        text-align: right;\n",
       "    }\n",
       "</style>\n",
       "<table border=\"1\" class=\"dataframe\">\n",
       "  <thead>\n",
       "    <tr style=\"text-align: right;\">\n",
       "      <th></th>\n",
       "      <th>0</th>\n",
       "      <th>1</th>\n",
       "      <th>2</th>\n",
       "      <th>3</th>\n",
       "      <th>4</th>\n",
       "      <th>5</th>\n",
       "      <th>6</th>\n",
       "      <th>7</th>\n",
       "      <th>8</th>\n",
       "      <th>9</th>\n",
       "    </tr>\n",
       "  </thead>\n",
       "  <tbody>\n",
       "    <tr>\n",
       "      <th>0</th>\n",
       "      <td>0</td>\n",
       "      <td>46</td>\n",
       "      <td>60</td>\n",
       "      <td>71</td>\n",
       "      <td>16</td>\n",
       "      <td>43</td>\n",
       "      <td>53</td>\n",
       "      <td>11</td>\n",
       "      <td>58</td>\n",
       "      <td>35</td>\n",
       "    </tr>\n",
       "    <tr>\n",
       "      <th>1</th>\n",
       "      <td>46</td>\n",
       "      <td>0</td>\n",
       "      <td>14</td>\n",
       "      <td>28</td>\n",
       "      <td>36</td>\n",
       "      <td>11</td>\n",
       "      <td>43</td>\n",
       "      <td>56</td>\n",
       "      <td>15</td>\n",
       "      <td>13</td>\n",
       "    </tr>\n",
       "    <tr>\n",
       "      <th>2</th>\n",
       "      <td>60</td>\n",
       "      <td>14</td>\n",
       "      <td>0</td>\n",
       "      <td>16</td>\n",
       "      <td>51</td>\n",
       "      <td>22</td>\n",
       "      <td>51</td>\n",
       "      <td>70</td>\n",
       "      <td>8</td>\n",
       "      <td>27</td>\n",
       "    </tr>\n",
       "    <tr>\n",
       "      <th>3</th>\n",
       "      <td>71</td>\n",
       "      <td>28</td>\n",
       "      <td>16</td>\n",
       "      <td>0</td>\n",
       "      <td>64</td>\n",
       "      <td>38</td>\n",
       "      <td>67</td>\n",
       "      <td>82</td>\n",
       "      <td>14</td>\n",
       "      <td>42</td>\n",
       "    </tr>\n",
       "    <tr>\n",
       "      <th>4</th>\n",
       "      <td>16</td>\n",
       "      <td>36</td>\n",
       "      <td>51</td>\n",
       "      <td>64</td>\n",
       "      <td>0</td>\n",
       "      <td>31</td>\n",
       "      <td>37</td>\n",
       "      <td>22</td>\n",
       "      <td>50</td>\n",
       "      <td>24</td>\n",
       "    </tr>\n",
       "    <tr>\n",
       "      <th>5</th>\n",
       "      <td>43</td>\n",
       "      <td>11</td>\n",
       "      <td>22</td>\n",
       "      <td>38</td>\n",
       "      <td>31</td>\n",
       "      <td>0</td>\n",
       "      <td>32</td>\n",
       "      <td>52</td>\n",
       "      <td>25</td>\n",
       "      <td>8</td>\n",
       "    </tr>\n",
       "    <tr>\n",
       "      <th>6</th>\n",
       "      <td>53</td>\n",
       "      <td>43</td>\n",
       "      <td>51</td>\n",
       "      <td>67</td>\n",
       "      <td>37</td>\n",
       "      <td>32</td>\n",
       "      <td>0</td>\n",
       "      <td>56</td>\n",
       "      <td>56</td>\n",
       "      <td>34</td>\n",
       "    </tr>\n",
       "    <tr>\n",
       "      <th>7</th>\n",
       "      <td>11</td>\n",
       "      <td>56</td>\n",
       "      <td>70</td>\n",
       "      <td>82</td>\n",
       "      <td>22</td>\n",
       "      <td>52</td>\n",
       "      <td>56</td>\n",
       "      <td>0</td>\n",
       "      <td>68</td>\n",
       "      <td>44</td>\n",
       "    </tr>\n",
       "    <tr>\n",
       "      <th>8</th>\n",
       "      <td>58</td>\n",
       "      <td>15</td>\n",
       "      <td>8</td>\n",
       "      <td>14</td>\n",
       "      <td>50</td>\n",
       "      <td>25</td>\n",
       "      <td>56</td>\n",
       "      <td>68</td>\n",
       "      <td>0</td>\n",
       "      <td>28</td>\n",
       "    </tr>\n",
       "    <tr>\n",
       "      <th>9</th>\n",
       "      <td>35</td>\n",
       "      <td>13</td>\n",
       "      <td>27</td>\n",
       "      <td>42</td>\n",
       "      <td>24</td>\n",
       "      <td>8</td>\n",
       "      <td>34</td>\n",
       "      <td>44</td>\n",
       "      <td>28</td>\n",
       "      <td>0</td>\n",
       "    </tr>\n",
       "  </tbody>\n",
       "</table>\n",
       "</div>"
      ],
      "text/plain": [
       "    0   1   2   3   4   5   6   7   8   9\n",
       "0   0  46  60  71  16  43  53  11  58  35\n",
       "1  46   0  14  28  36  11  43  56  15  13\n",
       "2  60  14   0  16  51  22  51  70   8  27\n",
       "3  71  28  16   0  64  38  67  82  14  42\n",
       "4  16  36  51  64   0  31  37  22  50  24\n",
       "5  43  11  22  38  31   0  32  52  25   8\n",
       "6  53  43  51  67  37  32   0  56  56  34\n",
       "7  11  56  70  82  22  52  56   0  68  44\n",
       "8  58  15   8  14  50  25  56  68   0  28\n",
       "9  35  13  27  42  24   8  34  44  28   0"
      ]
     },
     "execution_count": 2,
     "metadata": {},
     "output_type": "execute_result"
    }
   ],
   "source": [
    "from random import *\n",
    "import pandas\n",
    "from generateMatrix import generateMatrix\n",
    "\n",
    "grapheTable = []\n",
    "PointsLivraisonTable = []\n",
    "\n",
    "#génération aléatoire des villes\n",
    "DepartementTravail = randint(1,93)\n",
    "\n",
    "#génération des matrices de degré différents\n",
    "listeDegre = [10,20,30,40,50,65,80,100,120,140]\n",
    "\n",
    "for degre in listeDegre:\n",
    "    MatriceDistances, PointsLivraison = generateMatrix(DepartementTravail, degre)\n",
    "    grapheTable.append(MatriceDistances)\n",
    "    PointsLivraisonTable.append(PointsLivraison)\n",
    "\n",
    "print(f\"Choix du département pour la tournée : {str(DepartementTravail)}\")\n",
    "\n",
    "# Affichage de la matrice 140x140\n",
    "pandas.DataFrame(grapheTable[0])"
   ]
  },
  {
   "cell_type": "markdown",
   "metadata": {},
   "source": [
    "## I - Choix des algorithmes"
   ]
  },
  {
   "cell_type": "markdown",
   "metadata": {},
   "source": [
    "### Algorithmes sans librairie"
   ]
  },
  {
   "cell_type": "code",
   "execution_count": 3,
   "metadata": {},
   "outputs": [
    {
     "name": "stdout",
     "output_type": "stream",
     "text": [
      "---DONE---\n"
     ]
    }
   ],
   "source": [
    "#import algorithmes\n",
    "from Algorithms.tabu import tabu_method\n",
    "from Algorithms.genetic import genetic_method\n",
    "from Algorithms.antColony import antColony_method\n",
    "from generateMaps import generateMaps\n",
    "\n",
    "# Variables partagés par tous les algorithmes\n",
    "vehicules = 5\n",
    "\n",
    "# Variables partagés entre l'algorithme tabou et l'algorithme genetique\n",
    "maxIterations = 1\n",
    "\n",
    "# Variables de l'algorithme génétique\n",
    "mutationRate = 1\n",
    "populationSize = 40\n",
    "maxGen = 10000\n",
    "\n",
    "print(\"---DONE---\")"
   ]
  },
  {
   "cell_type": "code",
   "execution_count": 4,
   "metadata": {},
   "outputs": [],
   "source": [
    "# Methode pour afficher les résultats\n",
    "def printer(route, dist):\n",
    "    \"\"\" Affiche les résultats d'un algorithme \"\"\"\n",
    "    globalDist = 0\n",
    "    for i in range(len(route)):\n",
    "        print(f\"camion {i+1} : {route[i+1]} || distance = {dist[i]} km\")\n",
    "        globalDist += dist[i]\n",
    "    print(f\"Total distance = {globalDist} km\")\n",
    "    print(\"\\n\")"
   ]
  },
  {
   "cell_type": "markdown",
   "metadata": {},
   "source": [
    "## Tabou"
   ]
  },
  {
   "cell_type": "code",
   "execution_count": 5,
   "metadata": {
    "scrolled": true,
    "tags": []
   },
   "outputs": [
    {
     "name": "stdout",
     "output_type": "stream",
     "text": [
      "camion 1 : [0, 17, 11, 14, 15, 0] || distance = 141 km\n",
      "camion 2 : [0, 7, 13, 6, 1, 0] || distance = 64 km\n",
      "camion 3 : [0, 19, 9, 5, 4, 0] || distance = 190 km\n",
      "camion 4 : [0, 2, 10, 8, 18, 0] || distance = 168 km\n",
      "camion 5 : [0, 16, 3, 12, 0] || distance = 102 km\n",
      "Total distance = 665 km\n",
      "\n",
      "\n"
     ]
    }
   ],
   "source": [
    "tabu_route, tabu_dist = tabu_method(grapheTable[1], vehicules, maxIterations)\n",
    "printer(tabu_route, tabu_dist)\n",
    "\n",
    "# Décommenter le code ci-dessous pour avoir un carte avec la solution\n",
    "# generateMaps(tabu_route, PointsLivraisonTable[1], \"tabu\")"
   ]
  },
  {
   "cell_type": "markdown",
   "metadata": {},
   "source": [
    "## Colonie de fourmis"
   ]
  },
  {
   "cell_type": "code",
   "execution_count": 6,
   "metadata": {},
   "outputs": [
    {
     "name": "stdout",
     "output_type": "stream",
     "text": [
      "camion 1 : [0, 1, 8, 11, 19, 0] || distance = 130 km\n",
      "camion 2 : [0, 16, 12, 2, 9, 0] || distance = 142 km\n",
      "camion 3 : [0, 7, 3, 14, 17, 0] || distance = 88 km\n",
      "camion 4 : [0, 10, 4, 18, 6, 0] || distance = 165 km\n",
      "camion 5 : [0, 15, 13, 5, 0] || distance = 173 km\n",
      "Total distance = 698 km\n",
      "\n",
      "\n"
     ]
    }
   ],
   "source": [
    "ant_route, ant_dist = antColony_method(grapheTable[1], vehicules)\n",
    "printer(ant_route, ant_dist)\n",
    "\n",
    "# Décommenter le code ci-dessous pour avoir un carte avec la solution\n",
    "# generateMaps(ant_route, PointsLivraisonTable[1], \"antColony\")"
   ]
  },
  {
   "cell_type": "markdown",
   "metadata": {},
   "source": [
    "## Génétique"
   ]
  },
  {
   "cell_type": "code",
   "execution_count": 7,
   "metadata": {},
   "outputs": [
    {
     "name": "stdout",
     "output_type": "stream",
     "text": [
      "camion 1 : [0, 0] || distance = 0 km\n",
      "camion 2 : [0, 4, 18, 0] || distance = 151 km\n",
      "camion 3 : [0, 14, 12, 15, 1, 6, 0] || distance = 149 km\n",
      "camion 4 : [0, 17, 13, 19, 9, 5, 2, 0] || distance = 146 km\n",
      "camion 5 : [0, 7, 10, 8, 16, 3, 11, 0] || distance = 125 km\n",
      "Total distance = 571 km\n",
      "\n",
      "\n"
     ]
    }
   ],
   "source": [
    "genetic_route, genetic_dist = genetic_method(mutationRate, populationSize, maxGen, maxIterations, vehicules, grapheTable[1])\n",
    "printer(genetic_route, genetic_dist)\n",
    "\n",
    "# Décommenter le code ci-dessous pour avoir un carte avec la solution\n",
    "# generateMaps(genetic_route, PointsLivraisonTable[1], \"genetic\")"
   ]
  },
  {
   "cell_type": "markdown",
   "metadata": {},
   "source": [
    "## Evaluation"
   ]
  },
  {
   "cell_type": "code",
   "execution_count": 8,
   "metadata": {},
   "outputs": [
    {
     "name": "stdout",
     "output_type": "stream",
     "text": [
      "---DONE---\n"
     ]
    }
   ],
   "source": [
    "import time\n",
    "\n",
    "#evaluation du temps d'exécution et du résultat\n",
    "timeTabou = []\n",
    "timeFourmi = []\n",
    "timeGenetic = []\n",
    "worstTabou = []\n",
    "worstFourmi = []\n",
    "worstGenetic = []\n",
    "\n",
    "for graphe in grapheTable:\n",
    "    #evaluation tabou\n",
    "    t = time.process_time()\n",
    "    tabu_route, tabu_dist = tabu_method(graphe, vehicules, maxIterations)\n",
    "    elapsed_time = time.process_time() - t\n",
    "    timeTabou.append(elapsed_time)\n",
    "    worstTabou.append(max(tabu_dist))\n",
    "\n",
    "    #evaluation colonie de fourmis\n",
    "    t = time.process_time()\n",
    "    ant_route, ant_dist = antColony_method(graphe, vehicules)\n",
    "    elapsed_time = time.process_time() - t\n",
    "    timeFourmi.append(elapsed_time)\n",
    "    worstFourmi.append(max(ant_dist))\n",
    "    \n",
    "    #evaluation génétique\n",
    "    t = time.process_time()\n",
    "    genetic_route, genetic_dist = genetic_method(mutationRate, populationSize, maxGen, maxIterations, vehicules, graphe)\n",
    "    elapsed_time = time.process_time() - t\n",
    "    timeGenetic.append(elapsed_time)\n",
    "    worstGenetic.append(max(genetic_dist))\n",
    "\n",
    "print(\"---DONE---\")"
   ]
  },
  {
   "cell_type": "code",
   "execution_count": 22,
   "metadata": {},
   "outputs": [
    {
     "data": {
      "image/png": "[encoded data removed]",
      "text/plain": [
       "<Figure size 432x288 with 1 Axes>"
      ]
     },
     "metadata": {
      "needs_background": "light"
     },
     "output_type": "display_data"
    }
   ],
   "source": [
    "import matplotlib.pyplot as plt\n",
    "\n",
    "#graphe temps d'exécution\n",
    "plt.plot(listeDegre,timeTabou)\n",
    "plt.plot(listeDegre,timeFourmi)\n",
    "plt.plot(listeDegre,timeGenetic)\n",
    "\n",
    "plt.legend(['Tabou', 'Colonie de fourmis', 'Génétique'])\n",
    "plt.xlabel(\"Taille du graphe\")\n",
    "plt.ylabel(\"Temps d'exécution (en secondes)\")\n",
    "plt.xlim([10, 140])\n",
    "\n",
    "plt.show()"
   ]
  },
  {
   "cell_type": "code",
   "execution_count": 23,
   "metadata": {},
   "outputs": [
    {
     "data": {
      "image/png": "[encoded data removed]",
      "text/plain": [
       "<Figure size 432x288 with 1 Axes>"
      ]
     },
     "metadata": {
      "needs_background": "light"
     },
     "output_type": "display_data"
    }
   ],
   "source": [
    "#graphe pire cas possible\n",
    "plt.plot(listeDegre,worstTabou)\n",
    "plt.plot(listeDegre,worstFourmi)\n",
    "plt.plot(listeDegre,worstGenetic)\n",
    "\n",
    "plt.legend(['Tabou', 'Colonie de fourmis', 'Génétique'])\n",
    "plt.xlabel(\"Taille du graphe\")\n",
    "plt.ylabel(\"Pire cas de fin de tournée\")\n",
    "plt.xlim([10, 140])\n",
    "\n",
    "plt.show()"
   ]
  },
  {
   "cell_type": "markdown",
   "metadata": {},
   "source": [
    "## Algorithmes avec librairies"
   ]
  },
  {
   "cell_type": "code",
   "execution_count": 10,
   "metadata": {},
   "outputs": [],
   "source": [
    "from Algorithms.or_tools import ortools_method\n",
    "from Algorithms.vrpy import vrpy_methode\n",
    "\n",
    "# Variable des métaheuristiques de or_tools\n",
    "time_limit = 3"
   ]
  },
  {
   "cell_type": "markdown",
   "metadata": {},
   "source": [
    "### Tabu avec OR-Tools"
   ]
  },
  {
   "cell_type": "code",
   "execution_count": 11,
   "metadata": {},
   "outputs": [
    {
     "name": "stdout",
     "output_type": "stream",
     "text": [
      "camion 1 : [0, 7, 2, 16, 10, 3, 15, 12, 8, 14, 11, 17, 0] || distance = 147 km\n",
      "camion 2 : [0, 18, 4, 0] || distance = 151 km\n",
      "camion 3 : [0, 0] || distance = 0 km\n",
      "camion 4 : [0, 0] || distance = 0 km\n",
      "camion 5 : [0, 6, 1, 13, 5, 9, 19, 0] || distance = 101 km\n",
      "Total distance = 399 km\n",
      "\n",
      "\n"
     ]
    }
   ],
   "source": [
    "ortools_tabu_route, ortools_tabu_dist = ortools_method(grapheTable[1], vehicules, \"tabu\", time_limit)\n",
    "printer(ortools_tabu_route, ortools_tabu_dist)\n",
    "\n",
    "# Décommenter le code ci-dessous pour avoir un carte avec la solution\n",
    "# generateMaps(ortools_tabu_route, PointsLivraisonTable[1], \"ortools_tabu\")"
   ]
  },
  {
   "cell_type": "markdown",
   "metadata": {},
   "source": [
    "### Recuit simulé avec OR-Tools"
   ]
  },
  {
   "cell_type": "code",
   "execution_count": 30,
   "metadata": {},
   "outputs": [
    {
     "name": "stdout",
     "output_type": "stream",
     "text": [
      "camion 1 : [0, 7, 2, 16, 10, 3, 15, 12, 8, 14, 11, 17, 0] || distance = 147 km\n",
      "camion 2 : [0, 18, 4, 0] || distance = 151 km\n",
      "camion 3 : [0, 0] || distance = 0 km\n",
      "camion 4 : [0, 0] || distance = 0 km\n",
      "camion 5 : [0, 6, 1, 13, 5, 9, 19, 0] || distance = 101 km\n",
      "Total distance = 399 km\n",
      "\n",
      "\n"
     ]
    }
   ],
   "source": [
    "ortools_sa_route, ortools_sa_dist = ortools_method(grapheTable[1], vehicules, \"simulated_annealing\", time_limit)\n",
    "printer(ortools_sa_route, ortools_sa_dist)\n",
    "\n",
    "# Décommenter le code ci-dessous pour avoir un carte avec la solution\n",
    "# generateMaps(ortools_sa_route, PointsLivraisonTable[1], \"ortools_sa\")"
   ]
  },
  {
   "cell_type": "markdown",
   "metadata": {},
   "source": [
    "### Methode Heuristique (Chemin le plus court)"
   ]
  },
  {
   "cell_type": "code",
   "execution_count": 33,
   "metadata": {},
   "outputs": [
    {
     "name": "stdout",
     "output_type": "stream",
     "text": [
      "camion 1 : [0, 81, 21, 62, 69, 49, 5, 4, 64, 48, 23, 95, 31, 39, 12, 56, 43, 93, 59, 54, 28, 3, 0] || distance = 144 km\n",
      "camion 2 : [0, 63, 60, 37, 41, 1, 9, 35, 30, 19, 68, 71, 97, 79, 75, 34, 57, 0] || distance = 152 km\n",
      "camion 3 : [0, 99, 94, 32, 25, 50, 77, 7, 46, 42, 67, 17, 33, 26, 22, 47, 24, 44, 36, 14, 0] || distance = 160 km\n",
      "camion 4 : [0, 89, 38, 83, 2, 10, 52, 88, 80, 86, 45, 8, 61, 84, 70, 16, 27, 73, 76, 74, 0] || distance = 157 km\n",
      "camion 5 : [0, 51, 18, 20, 55, 92, 29, 98, 90, 82, 78, 85, 6, 66, 91, 11, 72, 15, 53, 87, 96, 58, 40, 65, 13, 0] || distance = 159 km\n",
      "Total distance = 772 km\n",
      "\n",
      "\n"
     ]
    }
   ],
   "source": [
    "ortools_heuristic_route, ortools_heuristic_dist = ortools_method(grapheTable[1], vehicules, \"default\", time_limit)\n",
    "printer(ortools_heuristic_route, ortools_heuristic_dist)\n",
    "\n",
    "# Décommenter le code ci-dessous pour avoir un carte avec la solution\n",
    "# generateMaps(ortools_heuristic_route, PointsLivraisonTable[7], \"ortools_heuristic\")"
   ]
  },
  {
   "cell_type": "markdown",
   "metadata": {},
   "source": [
    "### Clarke & Wrighte avec VRPY"
   ]
  },
  {
   "cell_type": "code",
   "execution_count": 70,
   "metadata": {},
   "outputs": [
    {
     "name": "stderr",
     "output_type": "stream",
     "text": [
      "WARNING:vrpy.checks:Source not connected to 1\n",
      "WARNING:vrpy.checks:14 not connected to Sink\n",
      "WARNING:vrpy.checks:19 not connected to Sink\n",
      "INFO:vrpy.vrp:Clarke & Wright solution found with value 697.0 and 6 vehicles\n",
      "INFO:vrpy.vrp:Greedy solution found with value 364.0 and 1 vehicles\n",
      "INFO:vrpy.vrp:iteration 0, 100000\n"
     ]
    },
    {
     "ename": "Exception",
     "evalue": "problem Infeasible",
     "output_type": "error",
     "traceback": [
      "\u001b[1;31m---------------------------------------------------------------------------\u001b[0m",
      "\u001b[1;31mException\u001b[0m                                 Traceback (most recent call last)",
      "\u001b[1;32md:\\ElPab\\Documents\\Cours\\FISA A3\\Algorithmie\\Projet_Graphe\\testsAlgos.ipynb Cell 25'\u001b[0m in \u001b[0;36m<cell line: 3>\u001b[1;34m()\u001b[0m\n\u001b[0;32m      <a href='vscode-notebook-cell:/d%3A/ElPab/Documents/Cours/FISA%20A3/Algorithmie/Projet_Graphe/testsAlgos.ipynb#ch0000029?line=0'>1</a>\u001b[0m \u001b[39mimport\u001b[39;00m \u001b[39mcopy\u001b[39;00m\n\u001b[0;32m      <a href='vscode-notebook-cell:/d%3A/ElPab/Documents/Cours/FISA%20A3/Algorithmie/Projet_Graphe/testsAlgos.ipynb#ch0000029?line=1'>2</a>\u001b[0m grapheCopy \u001b[39m=\u001b[39m copy\u001b[39m.\u001b[39mdeepcopy(grapheTable)\n\u001b[1;32m----> <a href='vscode-notebook-cell:/d%3A/ElPab/Documents/Cours/FISA%20A3/Algorithmie/Projet_Graphe/testsAlgos.ipynb#ch0000029?line=2'>3</a>\u001b[0m vrpy_route, vrpy_cost \u001b[39m=\u001b[39m vrpy_methode(grapheCopy[\u001b[39m1\u001b[39;49m], PointsLivraisonTable[\u001b[39m1\u001b[39;49m], vehicules)\n\u001b[0;32m      <a href='vscode-notebook-cell:/d%3A/ElPab/Documents/Cours/FISA%20A3/Algorithmie/Projet_Graphe/testsAlgos.ipynb#ch0000029?line=3'>4</a>\u001b[0m printer(vrpy_route, vrpy_cost)\n",
      "File \u001b[1;32md:\\ElPab\\Documents\\Cours\\FISA A3\\Algorithmie\\Projet_Graphe\\Algorithms\\vrpy.py:22\u001b[0m, in \u001b[0;36mvrpy_methode\u001b[1;34m(Matrice, pointsLivraison, nb_vehicule)\u001b[0m\n\u001b[0;32m     20\u001b[0m prob\u001b[39m.\u001b[39mnum_vehicles \u001b[39m=\u001b[39m nb_vehicule\n\u001b[0;32m     21\u001b[0m prob\u001b[39m.\u001b[39muse_all_vehicles \u001b[39m=\u001b[39m \u001b[39mTrue\u001b[39;00m\n\u001b[1;32m---> 22\u001b[0m prob\u001b[39m.\u001b[39;49msolve()\n\u001b[0;32m     24\u001b[0m routeDist \u001b[39m=\u001b[39m []\n\u001b[0;32m     25\u001b[0m \u001b[39mfor\u001b[39;00m i \u001b[39min\u001b[39;00m \u001b[39mrange\u001b[39m(\u001b[39mlen\u001b[39m(prob\u001b[39m.\u001b[39mbest_routes_cost)):\n",
      "File \u001b[1;32m~\\AppData\\Local\\Packages\\PythonSoftwareFoundation.Python.3.9_qbz5n2kfra8p0\\LocalCache\\local-packages\\Python39\\site-packages\\vrpy-0.5.1-py3.9.egg\\vrpy\\vrp.py:254\u001b[0m, in \u001b[0;36mVehicleRoutingProblem.solve\u001b[1;34m(self, initial_routes, preassignments, pricing_strategy, cspy, exact, time_limit, solver, dive, greedy, max_iter, run_exact, heuristic_only)\u001b[0m\n\u001b[0;32m    252\u001b[0m \u001b[39mself\u001b[39m\u001b[39m.\u001b[39m_initialize(solver)\n\u001b[0;32m    253\u001b[0m \u001b[39m# Column generation procedure\u001b[39;00m\n\u001b[1;32m--> 254\u001b[0m \u001b[39mself\u001b[39;49m\u001b[39m.\u001b[39;49m_solve(dive, solver)\n",
      "File \u001b[1;32m~\\AppData\\Local\\Packages\\PythonSoftwareFoundation.Python.3.9_qbz5n2kfra8p0\\LocalCache\\local-packages\\Python39\\site-packages\\vrpy-0.5.1-py3.9.egg\\vrpy\\vrp.py:504\u001b[0m, in \u001b[0;36mVehicleRoutingProblem._solve\u001b[1;34m(self, dive, solver)\u001b[0m\n\u001b[0;32m    498\u001b[0m     (\n\u001b[0;32m    499\u001b[0m         \u001b[39mself\u001b[39m\u001b[39m.\u001b[39m_best_value,\n\u001b[0;32m    500\u001b[0m         \u001b[39mself\u001b[39m\u001b[39m.\u001b[39m_best_routes_as_graphs,\n\u001b[0;32m    501\u001b[0m     ) \u001b[39m=\u001b[39m \u001b[39mself\u001b[39m\u001b[39m.\u001b[39mmasterproblem\u001b[39m.\u001b[39mget_total_cost_and_routes(relax\u001b[39m=\u001b[39m\u001b[39mTrue\u001b[39;00m)\n\u001b[0;32m    502\u001b[0m \u001b[39melif\u001b[39;00m \u001b[39mlen\u001b[39m(\u001b[39mself\u001b[39m\u001b[39m.\u001b[39mG\u001b[39m.\u001b[39mnodes()) \u001b[39m>\u001b[39m \u001b[39m2\u001b[39m:\n\u001b[0;32m    503\u001b[0m     \u001b[39m# Solve as MIP\u001b[39;00m\n\u001b[1;32m--> 504\u001b[0m     _, _ \u001b[39m=\u001b[39m \u001b[39mself\u001b[39;49m\u001b[39m.\u001b[39;49mmasterproblem\u001b[39m.\u001b[39;49msolve(\n\u001b[0;32m    505\u001b[0m         relax\u001b[39m=\u001b[39;49m\u001b[39mFalse\u001b[39;49;00m, time_limit\u001b[39m=\u001b[39;49m\u001b[39mself\u001b[39;49m\u001b[39m.\u001b[39;49m_get_time_remaining(mip\u001b[39m=\u001b[39;49m\u001b[39mTrue\u001b[39;49;00m)\n\u001b[0;32m    506\u001b[0m     )\n\u001b[0;32m    507\u001b[0m     (\n\u001b[0;32m    508\u001b[0m         \u001b[39mself\u001b[39m\u001b[39m.\u001b[39m_best_value,\n\u001b[0;32m    509\u001b[0m         \u001b[39mself\u001b[39m\u001b[39m.\u001b[39m_best_routes_as_graphs,\n\u001b[0;32m    510\u001b[0m     ) \u001b[39m=\u001b[39m \u001b[39mself\u001b[39m\u001b[39m.\u001b[39mmasterproblem\u001b[39m.\u001b[39mget_total_cost_and_routes(relax\u001b[39m=\u001b[39m\u001b[39mFalse\u001b[39;00m)\n\u001b[0;32m    511\u001b[0m \u001b[39mself\u001b[39m\u001b[39m.\u001b[39m_post_process(solver)\n",
      "File \u001b[1;32m~\\AppData\\Local\\Packages\\PythonSoftwareFoundation.Python.3.9_qbz5n2kfra8p0\\LocalCache\\local-packages\\Python39\\site-packages\\vrpy-0.5.1-py3.9.egg\\vrpy\\master_solve_pulp.py:52\u001b[0m, in \u001b[0;36m_MasterSolvePulp.solve\u001b[1;34m(self, relax, time_limit)\u001b[0m\n\u001b[0;32m     49\u001b[0m \u001b[39m# self.prob.writeLP(\"master.lp\")\u001b[39;00m\n\u001b[0;32m     51\u001b[0m \u001b[39mif\u001b[39;00m pulp\u001b[39m.\u001b[39mLpStatus[\u001b[39mself\u001b[39m\u001b[39m.\u001b[39mprob\u001b[39m.\u001b[39mstatus] \u001b[39m!=\u001b[39m \u001b[39m\"\u001b[39m\u001b[39mOptimal\u001b[39m\u001b[39m\"\u001b[39m:\n\u001b[1;32m---> 52\u001b[0m     \u001b[39mraise\u001b[39;00m \u001b[39mException\u001b[39;00m(\u001b[39m\"\u001b[39m\u001b[39mproblem \u001b[39m\u001b[39m\"\u001b[39m \u001b[39m+\u001b[39m \u001b[39mstr\u001b[39m(pulp\u001b[39m.\u001b[39mLpStatus[\u001b[39mself\u001b[39m\u001b[39m.\u001b[39mprob\u001b[39m.\u001b[39mstatus]))\n\u001b[0;32m     53\u001b[0m \u001b[39mif\u001b[39;00m relax:\n\u001b[0;32m     54\u001b[0m     \u001b[39mfor\u001b[39;00m r \u001b[39min\u001b[39;00m \u001b[39mself\u001b[39m\u001b[39m.\u001b[39mroutes:\n",
      "\u001b[1;31mException\u001b[0m: problem Infeasible"
     ]
    }
   ],
   "source": [
    "##### NE MARCHE PAS ACTUELLEMENT #####\n",
    "\n",
    "# import copy\n",
    "# grapheCopy = copy.deepcopy(grapheTable)\n",
    "# vrpy_route, vrpy_cost = vrpy_methode(grapheCopy[1], PointsLivraisonTable[1], vehicules)\n",
    "# printer(vrpy_route, vrpy_cost)"
   ]
  },
  {
   "cell_type": "markdown",
   "metadata": {},
   "source": [
    "### Tests des algo"
   ]
  },
  {
   "cell_type": "code",
   "execution_count": 17,
   "metadata": {},
   "outputs": [
    {
     "name": "stdout",
     "output_type": "stream",
     "text": [
      "---DONE---\n"
     ]
    }
   ],
   "source": [
    "#evaluation du temps d'exécution et du résultat\n",
    "time_Tabu_Ortools = []\n",
    "time_SA_Ortools = []\n",
    "time_CW_VRPY = []\n",
    "time_heuristic_Ortools = []\n",
    "worst_tabu_ortools = []\n",
    "worst_sa_ortools = []\n",
    "worst_cw_vrpy = []\n",
    "worst_heuristic_ortools = []\n",
    "\n",
    "for graphe in grapheTable:\n",
    "    #evaluation tabou OR-Tools\n",
    "    t = time.process_time()\n",
    "    ortools_tabu_route, ortools_tabu_dist = ortools_method(graphe, vehicules, \"tabu\", time_limit)\n",
    "    elapsed_time = time.process_time() - t\n",
    "    time_Tabu_Ortools.append(elapsed_time)\n",
    "    worst_tabu_ortools.append(max(ortools_tabu_dist))\n",
    "\n",
    "    #evaluation SA OR-Tools\n",
    "    t = time.process_time()\n",
    "    ortools_sa_route, ortools_sa_dist = ortools_method(graphe, vehicules, \"simulated_annealing\", time_limit)\n",
    "    elapsed_time = time.process_time() - t\n",
    "    time_SA_Ortools.append(elapsed_time)\n",
    "    worst_sa_ortools.append(max(ortools_sa_dist))\n",
    "\n",
    "    #evaluation SA OR-Tools\n",
    "    t = time.process_time()\n",
    "    ortools_heuristic_route, ortools_heuristic_dist = ortools_method(graphe, vehicules, \"default\", time_limit)\n",
    "    elapsed_time = time.process_time() - t\n",
    "    time_heuristic_Ortools.append(elapsed_time)\n",
    "    worst_heuristic_ortools.append(max(ortools_heuristic_dist))\n",
    "\n",
    "print(\"---DONE---\")"
   ]
  },
  {
   "cell_type": "code",
   "execution_count": 34,
   "metadata": {},
   "outputs": [
    {
     "data": {
      "image/png": "[encoded data removed]",
      "text/plain": [
       "<Figure size 432x288 with 1 Axes>"
      ]
     },
     "metadata": {
      "needs_background": "light"
     },
     "output_type": "display_data"
    }
   ],
   "source": [
    "import matplotlib.pyplot as plt\n",
    "\n",
    "#graphe temps d'exécution\n",
    "plt.plot(listeDegre,time_Tabu_Ortools)\n",
    "plt.plot(listeDegre,time_SA_Ortools)\n",
    "plt.plot(listeDegre,time_heuristic_Ortools)\n",
    "\n",
    "plt.legend(['Tabu (OR-Tools)', 'Simulated Annealing (OR-Tools)', 'Heuristic'])\n",
    "plt.xlabel(\"Taille du graphe\")\n",
    "plt.ylabel(\"Temps d'exécution (en secondes)\")\n",
    "plt.xlim([10, 140])\n",
    "\n",
    "plt.show()"
   ]
  },
  {
   "cell_type": "code",
   "execution_count": 22,
   "metadata": {},
   "outputs": [
    {
     "data": {
      "image/png": "[encoded data removed]",
      "text/plain": [
       "<Figure size 432x288 with 1 Axes>"
      ]
     },
     "metadata": {
      "needs_background": "light"
     },
     "output_type": "display_data"
    }
   ],
   "source": [
    "#graphe pire cas possible\n",
    "plt.plot(listeDegre,worst_tabu_ortools)\n",
    "plt.plot(listeDegre,worst_sa_ortools)\n",
    "plt.plot(listeDegre,worst_heuristic_ortools)\n",
    "\n",
    "plt.legend(['Tabu (OR-Tools)', 'Simulated Annealing (OR-Tools)', 'Heuristic'])\n",
    "plt.xlabel(\"Taille du graphe\")\n",
    "plt.ylabel(\"Pire cas de fin de tournée\")\n",
    "plt.xlim([10, 140])\n",
    "\n",
    "plt.show()"
   ]
  }
 ],
 "metadata": {
  "kernelspec": {
   "display_name": "Python 3.9.13 64-bit",
   "language": "python",
   "name": "python3"
  },
  "language_info": {
   "codemirror_mode": {
    "name": "ipython",
    "version": 3
   },
   "file_extension": ".py",
   "mimetype": "text/x-python",
   "name": "python",
   "nbconvert_exporter": "python",
   "pygments_lexer": "ipython3",
   "version": "3.9.13"
  },
  "vscode": {
   "interpreter": {
    "hash": "8e284ee3255a07ad8bf76694974743c4c81cb57e7c969474d752d949b11d721e"
   }
  }
 },
 "nbformat": 4,
 "nbformat_minor": 2
}
