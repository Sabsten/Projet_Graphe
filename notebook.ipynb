{
 "cells": [
  {
   "cell_type": "markdown",
   "metadata": {},
   "source": [
    "<center>\n",
    "<img src=\"https://www.dispatchtrack.com/hubfs/vehicle-routing-scheduling-software.webp\" alt=\"Drawing\" style=\"width: 500px;\"/>\n",
    "</center>"
   ]
  },
  {
   "cell_type": "markdown",
   "metadata": {},
   "source": [
    "<center><h1> Notebook - Projet A3 - Algorithmique avancée </h1></center>"
   ]
  },
  {
   "cell_type": "markdown",
   "metadata": {},
   "source": [
    "**Groupe de Projet**\n",
    "\n",
    "- Rabie HAMADOUCHE\n",
    "\n",
    "- Pierre YRIARTE\n",
    "\n",
    "- Sebastien CROUZET\n",
    "\n",
    "- Djilali HOUADAH\n",
    "\n",
    "- Paul CALIMACHE\n",
    "\n",
    "L’ensemble des réalisation techniques ayant étés nécessaires dans le cadre de la rédaction de cette étude est disponible sur GitHub: https://github.com/Sabsten/Projet_Graphe"
   ]
  },
  {
   "cell_type": "markdown",
   "metadata": {},
   "source": [
    "# Sommaire \n",
    "* [Introduction](#Introduction)\n",
    "* [Contexte](#Contextes)\n",
    "* [Contraintes](#Contraintes)\n",
    "  \n",
    "# Introduction\n",
    "\n",
    "L'un des enjeux principaux de notre époque, dans le but d'endiguer le phénomène de dérèglement climatique, sera de trouver des axes d’amélioration en ce qui concerne nos consommations d’énergie. Si certains domaines ont déjà entamés cette transition (maisons connectées avec optimisation du chauffage et de l’éclairage, véhicules électriques, réduction des déchets de l’industrie et de l’alimentaire, …), les scientifiques s’accordent à dire que ces efforts demeureront insuffisants. Il est primordial que les entreprises, les institutions et les individus acceptent de faire évoluer leurs habitudes et leur comportement afin de participer à cet effort commun. L’un des axes d’améliorations rapidement identifié est bien entendu l’optimisation des modes de transport et leurs performances en terme de temps et distance parcourue.\n",
    "\n",
    "# Contexte\n",
    "\n",
    "Imminent acteur de ce secteur, l’ADEME (Agence de l’Environnement et de la Maîtrise de l’Energie) a dernièrement lancé un appel à manifestation d’intérêt (un mode de présélection des candidats qui seront invités à soumissionner lors de futures procédures de passation de marchés publics) dans le cadre d’un projet de réalisation de démonstrateurs et d’expérimentations de solutions de mobilité. Ces solutions pourront concerner tout aussi bien le transport de personnes mais également de marchandises, et devrons être applicables sur différents types de territoires.\n",
    "\n",
    "Notre entreprise CesiCDP, composée de 5 personnes (Paul CALIMACHE, Sébastien CROUZET, Rabie HAMADOUCHE, Djilali OUADAH et Pierre YRIARTE) dispose d’ores et déjà de solides connaissances métiers concernant le domaine du transport, ayant déjà réalisé plusieurs études sur le thème de la Mobilité Multimodale Intelligente. Nous souhaitons donc aujourd’hui répondre à l’appel de l’ADEME, dans l’espoir d’obtenir la réalisation de ce travail. Cela devrait nous permettre de conquérir de nouveaux marchés tout en obtenant des financements solides pour la continuité de notre activité.\n",
    "\n",
    "Etant libre de présenter toute piste de solution permettant de solutionner les problématiques d’ADEME en matière de maîtrise de l’énergie, nous avons choisi d’orienter notre étude sur l’optimisation des tournées de livraison. La problématique que nous souhaiterions résoudre serait de calculer le trajet le plus cours pour un véhicule de livraison sur un réseau routier (contenant un sous-ensemble de villes) permettant de rallier toutes les villes et revenir à son point de départ. Cet appel à manifestation d’intérêt étant très concurrentiel, nous avons cependant besoin d’identifier et de résoudre également des contraintes plus complexes de la gestion des transports. Parmi les premières à nous venir à l’esprit, il y a bien entendu la prise en compte du trafic sur la route, mais également d’autres subtilités relatives aux métiers du transport (besoin d’un véhicule spécifique pour certains produit transportés, différents points de prélèvements en départ du trajet….). Notre objectif sera de couvrir un maximum de cas de figure afin d’être en mesure de satisfaire l’ADEME et remporter l’appel d’offre.\n",
    "\n",
    "# Contraintes\n",
    "\n",
    "**Obligatoires :**\n",
    "\n",
    "1. Retour du camion au point de départ\n",
    "\n",
    "2. Durée totale du trajet optimisée\n",
    "\n",
    "3. Prise en compte du traffic selon la plage horaire\n",
    "\n",
    "**Facultatives/Suggestions CESI :**\n",
    "\n",
    "4. Impossibilité de livrer certains colis sur certaines plages horaires (possibilité d'attendre sur place en attendant la bonne heure)\n",
    "\n",
    "5. Plusieurs camions disponibles en simultané\n",
    "\n",
    "    - Affection des objets aux différents camions dispos\n",
    "\n",
    "    - Minimiser la date de retour du dernier camion (et non le temps de trajet total)\n",
    "\n",
    "    - Capacité des camions (2 ou 3 dimensions, JE SAIS PAS CE QUE CA VEUT DIRE) et encombrement des camions\n",
    "\n",
    "    - Certains objets ne peuvent pas être transités dans tous les camions\n",
    "\n",
    "6. Chaque objet a un point de collecte spécifique"
   ]
  }
 ],
 "metadata": {
  "interpreter": {
   "hash": "81794d4967e6c3204c66dcd87b604927b115b27c00565d3d43f05ba2f3a2cb0d"
  },
  "kernelspec": {
   "display_name": "Python 3.9.13 64-bit",
   "language": "python",
   "name": "python3"
  },
  "language_info": {
   "codemirror_mode": {
    "name": "ipython",
    "version": 3
   },
   "file_extension": ".py",
   "mimetype": "text/x-python",
   "name": "python",
   "nbconvert_exporter": "python",
   "pygments_lexer": "ipython3",
   "version": "3.9.13"
  },
  "orig_nbformat": 4
 },
 "nbformat": 4,
 "nbformat_minor": 2
}
