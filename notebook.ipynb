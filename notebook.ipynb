{
 "cells": [
  {
   "cell_type": "markdown",
   "metadata": {},
   "source": [
    "<center>\n",
    "<img src=\"https://www.dispatchtrack.com/hubfs/vehicle-routing-scheduling-software.webp\" alt=\"Drawing\" style=\"width: 500px;\"/>\n",
    "</center>"
   ]
  },
  {
   "cell_type": "markdown",
   "metadata": {},
   "source": [
    "<center><h1> Notebook - Projet A3 - Algorithmique avancée </h1></center>"
   ]
  },
  {
   "cell_type": "markdown",
   "metadata": {},
   "source": [
    "**Groupe de Projet**\n",
    "\n",
    "- Rabie HAMADOUCHE\n",
    "\n",
    "- Pierre YRIARTE\n",
    "\n",
    "- Sebastien CROUZET\n",
    "\n",
    "- Djilali HOUADAH\n",
    "\n",
    "- Paul CALIMACHE\n",
    "\n",
    "L’ensemble des réalisation techniques ayant étés nécessaires dans le cadre de la rédaction de cette étude est disponible sur GitHub: https://github.com/Sabsten/Projet_Graphe"
   ]
  },
  {
   "cell_type": "markdown",
   "metadata": {},
   "source": [
    "# Sommaire \n",
    "* [Introduction](#introduction)\n",
    "* [Contexte](#contexte)\n",
    "* [Choix des contraintes](#choix-des-contraintes)\n",
    "* [Modélisation du problème](#modélisation-du-problème)\n",
    "* [Complexité](#complexité)\n",
    "* [Représentation formelle des données](#représentation-formelle-des-données)\n",
    "  * [Acquisition des données](#1---acquisition-des-données)\n",
    "  * [Calcul de distance entre les villes](#2---calcul-de-distance-entre-les-villes)\n",
    "* [Conclusion](#conclusion)\n",
    "* [Bibliographie](#bibliographie)\n",
    "  \n",
    "# Introduction\n",
    "\n",
    "L'un des enjeux principaux de notre époque, dans le but d'endiguer le phénomène de dérèglement climatique, sera de trouver des axes d’amélioration en ce qui concerne nos consommations d’énergie. Si certains domaines ont déjà entamés cette transition (maisons connectées avec optimisation du chauffage et de l’éclairage, véhicules électriques, réduction des déchets de l’industrie et de l’alimentaire, …), les scientifiques s’accordent à dire que ces efforts demeureront insuffisants. Il est primordial que les entreprises, les institutions et les individus acceptent de faire évoluer leurs habitudes et leur comportement afin de participer à cet effort commun. L’un des axes d’améliorations rapidement identifié est bien entendu l’optimisation des modes de transport et leurs performances en terme de temps et distance parcourue.\n",
    "\n",
    "# Contexte\n",
    "\n",
    "Imminent acteur de ce secteur, l’ADEME (Agence de l’Environnement et de la Maîtrise de l’Energie) a dernièrement lancé un appel à manifestation d’intérêt (un mode de présélection des candidats qui seront invités à soumissionner lors de futures procédures de passation de marchés publics) dans le cadre d’un projet de réalisation de démonstrateurs et d’expérimentations de solutions de mobilité. Ces solutions pourront concerner tout aussi bien le transport de personnes mais également de marchandises, et devrons être applicables sur différents types de territoires.\n",
    "\n",
    "Notre entreprise CesiCDP, composée de 5 personnes (Paul CALIMACHE, Sébastien CROUZET, Rabie HAMADOUCHE, Djilali OUADAH et Pierre YRIARTE) dispose d’ores et déjà de solides connaissances métiers concernant le domaine du transport, ayant déjà réalisé plusieurs études sur le thème de la Mobilité Multimodale Intelligente. Nous souhaitons donc aujourd’hui répondre à l’appel de l’ADEME, dans l’espoir d’obtenir la réalisation de ce travail. Cela devrait nous permettre de conquérir de nouveaux marchés tout en obtenant des financements solides pour la continuité de notre activité.\n",
    "\n",
    "Etant libre de présenter toute piste de solution permettant de solutionner les problématiques d’ADEME en matière de maîtrise de l’énergie, nous avons choisi d’orienter notre étude sur l’optimisation des tournées de livraison. La problématique que nous souhaiterions résoudre serait de calculer le trajet le plus cours pour un véhicule de livraison sur un réseau routier (contenant un sous-ensemble de villes) permettant de rallier toutes les villes et revenir à son point de départ. Cet appel à manifestation d’intérêt étant très concurrentiel, nous avons cependant besoin d’identifier et de résoudre également des contraintes plus complexes de la gestion des transports. Parmi les premières à nous venir à l’esprit, il y a bien entendu la prise en compte du trafic sur la route, mais également d’autres subtilités relatives aux métiers du transport (besoin d’un véhicule spécifique pour certains produit transportés, différents points de prélèvements en départ du trajet….). Notre objectif sera de couvrir un maximum de cas de figure afin d’être en mesure de satisfaire l’ADEME et remporter l’appel d’offre."
   ]
  },
  {
   "cell_type": "markdown",
   "metadata": {},
   "source": [
    "# Choix des contraintes\n",
    "\n",
    "**Obligatoires :**\n",
    "\n",
    "Notre solution devra répondre à un ensemble de problématiques relatives à la génération et l’optimisation d’une tournée de livraison sur un réseau routier composé d’un ensemble de villes à parcourir. L’objectif sera d’obtenir des tournées de durée optimale, permettant aux livreurs de revenir à leur point de départ et terminer leur journée le plus tôt possible et ne pas déborder de leurs horaires de travail. \n",
    "\n",
    "Notre algorithme devra prendre plusieurs facteurs en compte. Le premier facteur que nous intégrerons dans notre algorithme sera la connaissance du trafic habituel sur les axes routiers reliant les villes concernées par la livraison. Ce dernier devra être pris en compte dans le calcul du trajet, afin par exemple d’éviter un axe de courte distance mais étant très régulièrement saturé. \n",
    "\n",
    "**Facultatives :**\n",
    "\n",
    "De plus, afin de maximiser les chances que notre projet soit retenu par l’ADEME, nous avons décidé d’implémenter deux contraintes supplémentaires afin de valoriser notre savoir-faire. D’une part, nous gérerons également l’affluence des routes en direct : le trajet le plus court sera recalculé à chaque passage dans une ville, en prenant en compte le trafic actuellement présent sur les axes de circulation.  \n",
    "\n",
    "Enfin, afin de rendre notre travail plus professionnel et adapté à des problématiques réalistes, nous avons prévu de gérer plusieurs véhicules de livraison en simultané. Cette possibilité engendre plusieurs fonctionnalités à mettre en place : l’affectation des colis/objets aux différents camions (certains camions ne peuvent pas transporter certaines marchandises), la gestion de la capacité maximale de stockage des camions, et cette possibilité engendre également une modification majeure dans le fonctionnement de l’optimisation de la tournée : là où nous aurions uniquement souhaité obtenir la tournée dont la durée de réalisation est la plus courte, nous chercherons désormais la tournée permettant le retour le moins tardif pour le dernier camion à rentrer au dépôt (le dépôt est le point de départ et de fin de la tournée). "
   ]
  },
  {
   "cell_type": "markdown",
   "metadata": {},
   "source": [
    "# Modélisation du problème\n",
    "\n",
    "Rappelons que le but de cette étude est de générer une tournée de livraison, autrement dit calculer sur un réseau routier une tournée permettant de relier entre elles un sous-ensemble de villes, puis de revenir à son point de départ, de manière à minimiser la durée totale de la tournée. De plus, cette optimisation devra tenir compte du trafic prévu sur chaque axe pour les différentes tranches horaires. \n",
    "\n",
    "Afin de répondre à cette problématique, nous nous sommes d’abord rapprochés du [problème du voyageur de commerce](https://www.datavis.fr/playing/salesman-problem) vu en cours. Cependant notre cas comporte des contraintes supplémentaires, nous cherchons certe le trajet le plus rapide entre tous nos points mais en plus il doit être réalisé avec plusieurs véhicules. \n",
    "\n",
    "Le problème de livraison, également appelé VRP, semble être dans notre cas la meilleure stratégie.\n",
    "\n",
    "Le VRP fait partie des problèmes d’optimisation combinatoire et de recherche opérationnelle. La première fois, en 1959, que ce problème a été étudié par Dantzig et Ramser sous le nom de [« The Truck Dispatching Problem »](https://andresjaquep.files.wordpress.com/2008/10/2627477-clasico-dantzig.pdf) et a depuis fait l’objet de nombreux travaux qui ont donné de nombreuses variantes et différentes méthodes de résolution \n",
    "\n",
    "Voici quelques exemples des variantes du VRP : \n",
    "\n",
    "- CVRP (Capacited Vehicle Routing Problem) : le problème d’élaboration de tournées de véhicules avec capacité limitée du vehicule de livraison. C’est un problème de VRP classique auquel on a ajouté une contrainte supplémentaire : chaque vehicule de livraison ne peut contenir plus de colis que sa capacité maximale. \n",
    "\n",
    "- VRPTW (Vehicle Routing Problem with Time Windows) : le problème d’élaboration de tournées de véhicules avec fenêtres de temps est le problème le plus étudié. C’est un problème de VRP classique auquel on a ajouté une contrainte supplémentaire : chaque client doit fournir une limite de temps supérieure et inférieure entre lesquelles il désire être servi. \n",
    "\n",
    "- VRPHF (Vehicle Routing Problem with Heterogeneous Fleet) : ce type de problème cherche à satisfaire les objectifs du VRP mais en utilisant une flotte de véhicules de type différent. En fait, nous pouvons distinguer ces véhicules par leurs capacités, leurs vitesses ou leurs coûts de déplacement, etc. \n",
    "\n",
    "<u>Schema VRP :</u>\n",
    "\n",
    "<img src=\"https://zupimages.net/up/22/23/2qsw.jpg\" alt=\"Schema VRP\" /></a>"
   ]
  },
  {
   "cell_type": "markdown",
   "metadata": {},
   "source": [
    "# Complexité\n",
    "\n",
    "Précédemment nous avons dit que notre problème ressemble au problème du voyageur de commerce, en fait le problème du voyageur de commerce est un cas particulier du “vehicle routing problem” . \n",
    "\n",
    "Le voyageur de commerce consiste à chercher un cycle hamiltonien dont on sait qu’il est de complexité NP-Complet. \n",
    "\n",
    "On sait que le voyageur de commerce appartient à NP car étant donné un cycle, on peut vérifier en temps polynomial qu’il passe au moins une fois par chacun des sommets avec le cout le plus faible possible. \n",
    "\n",
    "\n",
    ">**Données :** un graphe complet K = (V, V × V) muni d’une fonction de coût positive C : V × V → N sur les arêtes, respectant l’inégalité triangulaire, un entier k.\n",
    "> \n",
    "> **Résolution :**\n",
    "> Le problème voyageur de commerce respecte l’inégalité triangulaire et il est dans NP car étant donnée un cycle, on peut vérifier en temps polynomial si le cycle passe par chaque sommet exactement une fois son coût est inférieur à k.\n",
    ">\n",
    "> Nous allons faire la réduction à partir du problème Cycle Hamiltonien. Soit I = G = (V, E),  une instance du problème Cycle Hamiltonien. Nous transformons cette instance en une instance I 0 du problème voyageur de commerce de la façon suivante. Nous affectons |V | à k et nous construisons un graphe K = (V, V ×V) muni de la fonction de coût sur les arêtes suivantes : C (u, v) = (1 si (u, v) ∈ E 2 si (u, v) ∈/ E La fonction de coût respecte bien l’inégalité triangulaire. \n",
    ">\n",
    "> On a mis en évidence une transformation qui se fait en temps en polynomial et qui montre que le problème du Voyageur de commerce est plus difficile que le problème du cycle Hamiltonien.\n",
    ">\n",
    "> **On conclut que le Voyageur de commerce est NP-Complet car il est dans NP et NP-Difficile.**\n",
    ">\n",
    "\n",
    "**Le problème du voyageur de commerce étant un cas particulier du VRP : Le VRP est au moins aussi difficile que le voyageur du commerce donc le VRP est NP-Complet.**\n",
    "\n",
    "Notre problème de VRP peut devenir très complexe, et ce, très rapidement. Il implique une gestion d’une flotte de véhicules et peut tenir compte de plusieurs tournées. Ceci fait en sorte que le problème est de nature combinatoire et le nombre de solutions augmente de manière exponentielle à mesure que sont rajoutés des véhicules, des visites, etc. \n",
    "\n",
    "Cette nature combinatoire des VRP, d’ordre de complexité NP-difficile, fait en sorte que certaines instances peuvent demander un temps infiniment élevé lorsqu’on tente de les résoudre. Lorsqu’aucune solution réalisable ne peut être fournie dans un temps raisonnable, il devient nécessaire d’aborder des méthodes approximatives.\n",
    "\n",
    "<img src=\"https://zupimages.net/up/22/23/zd66.png\" alt=\"Schema P et NP\" />\n"
   ]
  },
  {
   "cell_type": "markdown",
   "metadata": {},
   "source": [
    "# Représentation formelle des données\n",
    "\n",
    "## 1 - Acquisition des données\n",
    "\n",
    "Afin d’obtenir la liste de l’ensemble des villes de France, nous avons récupéré directement les données fournies par le gouvernement via un fichier au format csv.\n",
    "\n",
    "Ce fichier est composé d’informations permettant d’identifier la ville, avec son code postal, le nom de la commune, ainsi que le nom et le code de son département. On retrouve également les coordonnées géographiques de la ville avec sa latitude et longitude. \n",
    "\n",
    "<img src=\"https://zupimages.net/up/22/23/lnav.png\" alt=\"Fichier csv\"/>\n",
    "\n",
    "Nous utilisons ensuite ce fichier csv pour générer nos tournées. \n",
    "\n",
    "Pour modéliser une tournée qu’on pourrait réaliser dans une situation réelle, nous avons décidé de sélectionner un certain nombre de villes de manière aléatoire au sein d’un département. L’idée est de passer par toutes ces villes au cours d’une journée. \n",
    "\n",
    "## 2 - Calcul de distance entre les villes\n",
    "\n",
    "Maintenant que nous avons récupéré les coordonnées des villes que nous souhaitons parcourir il nous faut connaitre les distances entre ces villes afin de créer la matrice d’adjacence. \n",
    "\n",
    "Il existe plusieurs méthodes pour calculer cette distance, voici celles que nous avons essayé :"
   ]
  },
  {
   "cell_type": "code",
   "execution_count": null,
   "metadata": {},
   "outputs": [],
   "source": [
    "# Import des bibliothèque nécéssaires\n",
    "from math import sin, cos, sqrt, atan2, radians\n",
    "from numpy import arccos"
   ]
  },
  {
   "cell_type": "markdown",
   "metadata": {},
   "source": [
    "### Methode Pythagore"
   ]
  },
  {
   "cell_type": "code",
   "execution_count": null,
   "metadata": {},
   "outputs": [],
   "source": [
    "def Pythagore(pointA, pointB):\n",
    "    k = 1.852*60 # facteur k pour passer de nautique à km\n",
    "    x = (pointB[0] - pointA[0])* cos((pointA[1] + pointB[1])/2)\n",
    "    y = (pointB[1] - pointA[1])\n",
    "    return sqrt(x**2 + y**2) * k"
   ]
  },
  {
   "cell_type": "markdown",
   "metadata": {},
   "source": [
    "### Methode loi des sinus\n",
    "\n",
    "La formule donne le cosinus d'un angle à multiplier par le rayon terrestre."
   ]
  },
  {
   "cell_type": "code",
   "execution_count": null,
   "metadata": {},
   "outputs": [],
   "source": [
    "def Sinus(pointA, pointB):\n",
    "    a = sin(radians(pointA[1]))*sin(radians(pointB[1])) + cos(radians(pointA[1]))*cos(radians(pointB[1]))*cos(radians(pointB[0]) - radians(pointA[0]))\n",
    "    return R * arccos(a)"
   ]
  },
  {
   "cell_type": "markdown",
   "metadata": {},
   "source": [
    "### Methode Haversine\n",
    "\n",
    "Cas particulier d'une loi de la géométrie sphérique, la loi de haversine permet de calculer la distance du grand cercle entre deux points d'une sphère."
   ]
  },
  {
   "cell_type": "code",
   "execution_count": null,
   "metadata": {},
   "outputs": [],
   "source": [
    "def Haversine(pointA, pointB): \n",
    "    latitude1 = radians(float(pointA[0]))\n",
    "    latitude2 = radians(float(pointB[0]))\n",
    "    deltaLatitude = radians(float(pointB[0]) - float(pointA[0]))\n",
    "    deltaLongitude = radians(float(pointA[1]) - float(pointB[1]))\n",
    "    a = sin(deltaLatitude/2)**2 + cos(latitude1) * cos(latitude2) * sin(deltaLongitude/2)**2\n",
    "    c = 2 * atan2(sqrt(a), sqrt(1-a))\n",
    "    return R * c"
   ]
  },
  {
   "cell_type": "markdown",
   "metadata": {},
   "source": [
    "### Methode Géodésique\n",
    "\n",
    "La méthode Géodésique permet de calculer la distance entre deux points en se basant sur un modèle ellipsoïdal de la terre.\n",
    "\n",
    "Par défaut le modèle WGS-84 : majeure(6378.137 km),    mineure(6356.7523142 km),  aplatissement (1 / 298.257223563).\n",
    "\n",
    "On utilisera le package geopy pour cette méthode."
   ]
  },
  {
   "cell_type": "code",
   "execution_count": null,
   "metadata": {},
   "outputs": [],
   "source": [
    "# distance.geodesic(pointA, pointB).km"
   ]
  },
  {
   "cell_type": "markdown",
   "metadata": {},
   "source": [
    "### Test des différentes méthodes\n",
    "\n",
    "Pour tester les différentes méthode on va afficher le temps de calcul des methodes pour un nombre d'itérations à saisir (mettre minimum 1000 itérations pour avoir de bons résultats).\n",
    "\n",
    "On affiche également la distance entre capitole - cesi , capitole - tour eiffel et capitole - rio de janeiro pour mesurer la précision"
   ]
  },
  {
   "cell_type": "code",
   "execution_count": null,
   "metadata": {},
   "outputs": [],
   "source": [
    "from geopy import distance\n",
    "import time\n",
    "import random\n",
    "\n",
    "nb_iteration = int(input(\"Nombre d'itérations : \"))\n",
    "\n",
    "capitole = (43.6044499, 1.444494) # Coordonnées place du capitole\n",
    "cesi = (43.5481937, 1.5025686) # Coordonnées du cesi\n",
    "eiffel = (48.8582602,2.2944991) # Coordonnées de la tour eiffel\n",
    "rio = (-22.9519173, -43.2104585) # Coordonnées de la statue du christ de rio\n",
    "\n",
    "R = 6371 # Rayon de la terre en km\n",
    "\n",
    "duree_geodesic = 0.0\n",
    "duree_great_circle = 0.0\n",
    "duree_haversine = 0.0\n",
    "duree_pythagore = 0.0\n",
    "duree_sinus = 0.0\n",
    "\n",
    "for i in range(nb_iteration):\n",
    "    \n",
    "    lat = random.uniform(-90, 90)\n",
    "    lon = random.uniform(-180, 180)\n",
    "    pointA = (lat, lon)\n",
    "\n",
    "    lat = random.uniform(-90, 90)\n",
    "    lon = random.uniform(-180, 180)\n",
    "    pointB = (lat, lon)\n",
    "\n",
    "    start = time.time()\n",
    "    distance.geodesic(pointA, pointB).km\n",
    "    duree_geodesic += time.time() - start\n",
    "\n",
    "    start = time.time()\n",
    "    Haversine(pointA, pointB)\n",
    "    duree_haversine += time.time() - start\n",
    "\n",
    "    start = time.time()\n",
    "    Pythagore(pointA, pointB)\n",
    "    duree_pythagore += time.time() - start\n",
    "\n",
    "    start = time.time()\n",
    "    Sinus(pointA, pointB)\n",
    "    duree_sinus += time.time() - start\n",
    "\n",
    "print(f\"duree moyenne geodesic : {duree_geodesic} s sur {nb_iteration} itérations (moyenne de {duree_geodesic/nb_iteration} s par calcul)\")\n",
    "print(f\"duree moyenne haversine : {duree_haversine} sur {nb_iteration} itérations (moyenne de {duree_haversine/nb_iteration} par calcul)\")\n",
    "print(f\"duree moyenne pythagore : {duree_pythagore} sur {nb_iteration} itérations (moyenne de {duree_pythagore/nb_iteration} par calcul)\")\n",
    "print(f\"duree moyenne sinus : {duree_sinus} sur {nb_iteration} itérations (moyenne de {duree_sinus/nb_iteration} par calcul)\")\n",
    "print(\"------------------------------------------------------\")\n",
    "print(f\"distance capitole - cesi avec Geodesic: {distance.geodesic(capitole, cesi)}\")\n",
    "print(f\"distance capitole - cesi avec Haversine: {Haversine(capitole, cesi)} km\")\n",
    "print(f\"distance capitole - cesi avec Pythagore: {Pythagore(capitole, cesi)} km\")\n",
    "print(f\"distance capitole - cesi avec Sinus: {Sinus(capitole, cesi)} km\")\n",
    "print(\"------------------------------------------------------\")\n",
    "print(f\"distance capitole - tour eiffel avec Geodesic: {distance.geodesic(capitole, eiffel)}\")\n",
    "print(f\"distance capitole - tour eiffel avec Haversine: {Haversine(capitole, eiffel)} km\")\n",
    "print(f\"distance capitole - tour eiffel avec Pythagore: {Pythagore(capitole, eiffel)} km\")\n",
    "print(f\"distance capitole - tour eiffel avec Sinus: {Sinus(capitole, eiffel)} km\")\n",
    "print(\"------------------------------------------------------\")\n",
    "print(f\"distance capitole - rio avec Geodesic: {distance.geodesic(capitole, rio)}\")\n",
    "print(f\"distance capitole - rio avec Haversine: {Haversine(capitole, rio)} km\")\n",
    "print(f\"distance capitole - rio avec Pythagore: {Pythagore(capitole, rio)} km\")\n",
    "print(f\"distance capitole - rio avec Sinus: {Sinus(capitole, rio)} km\")"
   ]
  },
  {
   "cell_type": "markdown",
   "metadata": {},
   "source": [
    "### Choix de la méthode\n",
    "\n",
    "La méthode la plus exacte est la méthode Géodésique car elle utilise un modèle ellipsoïdal de la terre.\n",
    "\n",
    "La méthode Pythagore n'est vraiment pas précise pour de longue distance.\n",
    "\n",
    "La méthode de la loi des sinus est plus précise que Pythagore mais moins que Géodésique et Haversine.\n",
    "\n",
    "Notre choix se porte sur la méthode d'Haversine car elle est seulement 0.5% moins précise que la Géodésique et car elle est 50x plus rapide à exécutée (test sur 35000 itérations).\n"
   ]
  },
  {
   "cell_type": "markdown",
   "metadata": {},
   "source": [
    "# Conclusion\n",
    "\n",
    "Dans la cadre de ce projet, nous avons dû dans un premier temps étudier la problématique avancée par le sujet et définir de façon collégiale un ensemble de contraintes que nous souhaiterions résoudre afin de remporter l’appel d’offre de l’ADEME. \n",
    "\n",
    "Il s’agira de réaliser un algorithme fiable et rapide, capable de proposer une optimisation d’une tournée de livraison à plusieurs camions ayant des caractéristiques différentes. \n",
    "\n",
    "Nous avons désormais modélisé le problème que nous souhaitons résoudre, et nous avons également pu étudier sa complexité. \n",
    "\n",
    "Dorénavant, nous allons pouvoir procéder à la seconde phase du projet, à savoir l’implémentation de notre algorithme en code Python, ainsi que l’étude des performances de ce traitement selon les changements de variables qu’il aura à rencontrer (évolution du nombre de villes, évolution du nombre de véhicules...). "
   ]
  },
  {
   "cell_type": "markdown",
   "metadata": {},
   "source": [
    "# Bibliographie\n",
    "\n",
    "*Problème du voyageur de commerce :* https://fr.wikipedia.org/wiki/Probl%C3%A8me_du_voyageur_de_commerce#Histoire_et_importance\n",
    "\n",
    "*Graphe Hamiltionien :* https://fr.wikipedia.org/wiki/Graphe_hamiltonien\n",
    "\n",
    "*Théorie de la complexité :* https://fr.wikipedia.org/wiki/Th%C3%A9orie_de_la_complexit%C3%A9_(informatique_th%C3%A9orique)\n",
    "\n",
    "*Problèmes de tournées de véhicules, Thomas Chabot, 2015 :* https://corpus.ulaval.ca/jspui/bitstream/20.500.11794/26365/1/31447.pdf \n",
    "\n",
    "*Truck dispatching problem, Dantzig & Ramser, 1959 :* https://andresjaquep.files.wordpress.com/2008/10/2627477-clasico-dantzig.pdf\n",
    "\n",
    "*Calcul de distance entre deux points géographique, Villemin Gérard :* http://villemin.gerard.free.fr/aGeograp/Distance.htm\n",
    "\n",
    "*Geopy python package :* https://geopy.readthedocs.io/en/stable/#module-geopy.distance\n",
    "\n",
    "*Source des villes de france :* https://www.data.gouv.fr/fr/datasets/listes-des-communes-geolocalisees-par-regions-departements-circonscriptions-nd/ "
   ]
  }
 ],
 "metadata": {
  "interpreter": {
   "hash": "1226e92773349fbda6ba23c18d7a822dd006742c8d8987f1902d7eab92f7d04b"
  },
  "kernelspec": {
   "display_name": "Python 3.9.13 64-bit (windows store)",
   "language": "python",
   "name": "python3"
  },
  "language_info": {
   "codemirror_mode": {
    "name": "ipython",
    "version": 3
   },
   "file_extension": ".py",
   "mimetype": "text/x-python",
   "name": "python",
   "nbconvert_exporter": "python",
   "pygments_lexer": "ipython3",
   "version": "3.9.13"
  },
  "orig_nbformat": 4
 },
 "nbformat": 4,
 "nbformat_minor": 2
}
