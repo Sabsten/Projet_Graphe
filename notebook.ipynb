{
 "cells": [
  {
   "cell_type": "markdown",
   "metadata": {},
   "source": [
    "<center>\n",
    "<img src=\"https://www.dispatchtrack.com/hubfs/vehicle-routing-scheduling-software.webp\" alt=\"Drawing\" style=\"width: 500px;\"/>\n",
    "</center>"
   ]
  },
  {
   "cell_type": "markdown",
   "metadata": {},
   "source": [
    "<center><h1> Notebook - Projet A3 - Algorithmique avancée </h1></center>"
   ]
  },
  {
   "cell_type": "markdown",
   "metadata": {},
   "source": [
    "**Groupe de Projet**\n",
    "\n",
    "- Rabie HAMADOUCHE\n",
    "\n",
    "- Pierre YRIARTE\n",
    "\n",
    "- Sebastien CROUZET\n",
    "\n",
    "- Djilali HOUADAH\n",
    "\n",
    "- Paul CALIMACHE\n",
    "\n",
    "L’ensemble des réalisation techniques ayant étés nécessaires dans le cadre de la rédaction de cette étude est disponible sur GitHub: https://github.com/Sabsten/Projet_Graphe"
   ]
  },
  {
   "cell_type": "markdown",
   "metadata": {},
   "source": [
    "# Sommaire \n",
    "* [Introduction](#Introduction)\n",
    "* [Contexte](#Contextes)\n",
    "* [Contraintes](#Contraintes)\n",
    "  \n",
    "# Introduction\n",
    "\n",
    "L'un des enjeux principaux de notre époque, dans le but d'endiguer le phénomène de dérèglement climatique, sera de trouver des axes d’amélioration en ce qui concerne nos consommations d’énergie. Si certains domaines ont déjà entamés cette transition (maisons connectées avec optimisation du chauffage et de l’éclairage, véhicules électriques, réduction des déchets de l’industrie et de l’alimentaire, …), les scientifiques s’accordent à dire que ces efforts demeureront insuffisants. Il est primordial que les entreprises, les institutions et les individus acceptent de faire évoluer leurs habitudes et leur comportement afin de participer à cet effort commun. L’un des axes d’améliorations rapidement identifié est bien entendu l’optimisation des modes de transport et leurs performances en terme de temps et distance parcourue.\n",
    "\n",
    "# Contexte\n",
    "\n",
    "Imminent acteur de ce secteur, l’ADEME (Agence de l’Environnement et de la Maîtrise de l’Energie) a dernièrement lancé un appel à manifestation d’intérêt (un mode de présélection des candidats qui seront invités à soumissionner lors de futures procédures de passation de marchés publics) dans le cadre d’un projet de réalisation de démonstrateurs et d’expérimentations de solutions de mobilité. Ces solutions pourront concerner tout aussi bien le transport de personnes mais également de marchandises, et devrons être applicables sur différents types de territoires.\n",
    "\n",
    "Notre entreprise CesiCDP, composée de 5 personnes (Paul CALIMACHE, Sébastien CROUZET, Rabie HAMADOUCHE, Djilali OUADAH et Pierre YRIARTE) dispose d’ores et déjà de solides connaissances métiers concernant le domaine du transport, ayant déjà réalisé plusieurs études sur le thème de la Mobilité Multimodale Intelligente. Nous souhaitons donc aujourd’hui répondre à l’appel de l’ADEME, dans l’espoir d’obtenir la réalisation de ce travail. Cela devrait nous permettre de conquérir de nouveaux marchés tout en obtenant des financements solides pour la continuité de notre activité.\n",
    "\n",
    "Etant libre de présenter toute piste de solution permettant de solutionner les problématiques d’ADEME en matière de maîtrise de l’énergie, nous avons choisi d’orienter notre étude sur l’optimisation des tournées de livraison. La problématique que nous souhaiterions résoudre serait de calculer le trajet le plus cours pour un véhicule de livraison sur un réseau routier (contenant un sous-ensemble de villes) permettant de rallier toutes les villes et revenir à son point de départ. Cet appel à manifestation d’intérêt étant très concurrentiel, nous avons cependant besoin d’identifier et de résoudre également des contraintes plus complexes de la gestion des transports. Parmi les premières à nous venir à l’esprit, il y a bien entendu la prise en compte du trafic sur la route, mais également d’autres subtilités relatives aux métiers du transport (besoin d’un véhicule spécifique pour certains produit transportés, différents points de prélèvements en départ du trajet….). Notre objectif sera de couvrir un maximum de cas de figure afin d’être en mesure de satisfaire l’ADEME et remporter l’appel d’offre."
   ]
  },
  {
   "cell_type": "markdown",
   "metadata": {},
   "source": [
    "# Choix des contraintes\n",
    "\n",
    "**Obligatoires :**\n",
    "\n",
    "Notre solution devra répondre à un ensemble de problématiques relatives à la génération et l’optimisation d’une tournée de livraison sur un réseau routier composé d’un ensemble de villes à parcourir. L’objectif sera d’obtenir des tournées de durée optimale, permettant aux livreurs de revenir à leur point de départ et terminer leur journée le plus tôt possible et ne pas déborder de leurs horaires de travail. \n",
    "\n",
    "Notre algorithme devra prendre plusieurs facteurs en compte. Le premier facteur que nous intégrerons dans notre algorithme sera la connaissance du trafic habituel sur les axes routiers reliant les villes concernées par la livraison. Ce dernier devra être pris en compte dans le calcul du trajet, afin par exemple d’éviter un axe de courte distance mais étant très régulièrement saturé. \n",
    "\n",
    "**Facultatives :**\n",
    "\n",
    "De plus, afin de maximiser les chances que notre projet soit retenu par l’ADEME, nous avons décidé d’implémenter deux contraintes supplémentaires afin de valoriser notre savoir-faire. D’une part, nous gérerons également l’affluence des routes en direct : le trajet le plus court sera recalculé à chaque passage dans une ville, en prenant en compte le trafic actuellement présent sur les axes de circulation.  \n",
    "\n",
    "Enfin, afin de rendre notre travail plus professionnel et adapté à des problématiques réalistes, nous avons prévu de gérer plusieurs véhicules de livraison en simultané. Cette possibilité engendre plusieurs fonctionnalités à mettre en place : l’affectation des colis/objets aux différents camions (certains camions ne peuvent pas transporter certaines marchandises), la gestion de la capacité maximale de stockage des camions, et cette possibilité engendre également une modification majeure dans le fonctionnement de l’optimisation de la tournée : là où nous aurions uniquement souhaité obtenir la tournée dont la durée de réalisation est la plus courte, nous chercherons désormais la tournée permettant le retour le moins tardif pour le dernier camion à rentrer au dépôt (le dépôt est le point de départ et de fin de la tournée). "
   ]
  },
  {
   "cell_type": "markdown",
   "metadata": {},
   "source": [
    "# Modélisation du problème\n",
    "\n",
    "Rappelons que le but de cette étude est de générer une tournée de livraison, autrement dit calculer sur un réseau routier une tournée permettant de relier entre elles un sous-ensemble de villes, puis de revenir à son point de départ, de manière à minimiser la durée totale de la tournée. De plus, cette optimisation devra tenir compte du trafic prévu sur chaque axe pour les différentes tranches horaires. \n",
    "\n",
    "Afin de répondre à cette problématique, nous nous sommes d’abord rapprochés du [problème du voyageur de commerce](https://www.datavis.fr/playing/salesman-problem) vu en cours. Cependant notre cas comporte des contraintes supplémentaires, nous cherchons certe le trajet le plus rapide entre tous nos points mais en plus il doit être réalisé avec plusieurs véhicules. \n",
    "\n",
    "Le problème de livraison, également appelé VRP, semble être dans notre cas la meilleure stratégie.\n",
    "\n",
    "Le VRP fait partie des problèmes d’optimisation combinatoire et de recherche opérationnelle. La première fois, en 1959, que ce problème a été étudié par Dantzig et Ramser sous le nom de [« The Truck Dispatching Problem »](https://andresjaquep.files.wordpress.com/2008/10/2627477-clasico-dantzig.pdf) et a depuis fait l’objet de nombreux travaux qui ont donné de nombreuses variantes et différentes méthodes de résolution \n",
    "\n",
    "Voici quelques exemples des variantes du VRP : \n",
    "\n",
    "- CVRP (Capacited Vehicle Routing Problem) : le problème d’élaboration de tournées de véhicules avec capacité limitée du vehicule de livraison. C’est un problème de VRP classique auquel on a ajouté une contrainte supplémentaire : chaque vehicule de livraison ne peut contenir plus de colis que sa capacité maximale. \n",
    "\n",
    "- VRPTW (Vehicle Routing Problem with Time Windows) : le problème d’élaboration de tournées de véhicules avec fenêtres de temps est le problème le plus étudié. C’est un problème de VRP classique auquel on a ajouté une contrainte supplémentaire : chaque client doit fournir une limite de temps supérieure et inférieure entre lesquelles il désire être servi. \n",
    "\n",
    "- VRPHF (Vehicle Routing Problem with Heterogeneous Fleet) : ce type de problème cherche à satisfaire les objectifs du VRP mais en utilisant une flotte de véhicules de type différent. En fait, nous pouvons distinguer ces véhicules par leurs capacités, leurs vitesses ou leurs coûts de déplacement, etc. \n",
    "\n",
    "<u>Schema VRP :</u>\n",
    "\n",
    "<img src=\"img/Schema_VRP.jpg\" alt=\"Drawing\" style=\"width: 300px;\"/>\n"
   ]
  },
  {
   "cell_type": "markdown",
   "metadata": {},
   "source": [
    "# Complexité\n",
    "\n",
    "Précédemment nous avons dit que notre problème ressemble au problème du voyageur de commerce, en fait le problème du voyageur de commerce est un cas particulier du “vehicle routing problem” . \n",
    "\n",
    "Le voyageur de commerce consiste à chercher un cycle hamiltonien dont on sait qu’il est de complexité NP-Complet. \n",
    "\n",
    "On sait que le voyageur de commerce appartient à NP car étant donné un cycle, on peut vérifier en temps polynomial qu’il passe au moins une fois par chacun des sommets avec le cout le plus faible possible. \n",
    "\n",
    "\n",
    ">**Données :** un graphe complet K = (V, V × V) muni d’une fonction de coût positive C : V × V → N sur les arêtes, respectant l’inégalité triangulaire, un entier k.\n",
    "> \n",
    "> **Résolution :**\n",
    "> Le problème voyageur de commerce respecte l’inégalité triangulaire et il est dans NP car étant donnée un cycle, on peut vérifier en temps polynomial si le cycle passe par chaque sommet exactement une fois son coût est inférieur à k.\n",
    ">\n",
    "> Nous allons faire la réduction à partir du problème Cycle Hamiltonien. Soit I = G = (V, E),  une instance du problème Cycle Hamiltonien. Nous transformons cette instance en une instance I 0 du problème voyageur de commerce de la façon suivante. Nous affectons |V | à k et nous construisons un graphe K = (V, V ×V) muni de la fonction de coût sur les arêtes suivantes : C (u, v) = (1 si (u, v) ∈ E 2 si (u, v) ∈/ E La fonction de coût respecte bien l’inégalité triangulaire. \n",
    ">\n",
    "> On a mis en évidence une transformation qui se fait en temps en polynomial et qui montre que le problème du Voyageur de commerce est plus difficile que le problème du cycle Hamiltonien.\n",
    ">\n",
    "> **On conclut que le Voyageur de commerce est NP-Complet car il est dans NP et NP-Difficile.**\n",
    ">\n",
    "\n",
    "**Le problème du voyageur de commerce étant un cas particulier du VRP : Le VRP est au moins aussi difficile que le voyageur du commerce donc le VRP est NP-Complet.**\n",
    "\n",
    "Notre problème de VRP peut devenir très complexe, et ce, très rapidement. Il implique une gestion d’une flotte de véhicules et peut tenir compte de plusieurs tournées. Ceci fait en sorte que le problème est de nature combinatoire et le nombre de solutions augmente de manière exponentielle à mesure que sont rajoutés des véhicules, des visites, etc. \n",
    "\n",
    "Cette nature combinatoire des VRP, d’ordre de complexité NP-difficile, fait en sorte que certaines instances peuvent demander un temps infiniment élevé lorsqu’on tente de les résoudre. Lorsqu’aucune solution réalisable ne peut être fournie dans un temps raisonnable, il devient nécessaire d’aborder des méthodes approximatives.\n",
    "\n",
    "<img src=\"./img/Schema_P_NP.png\" alt=\"Drawing\" style=\"width: 300px;\"/>\n"
   ]
  }
 ],
 "metadata": {
  "interpreter": {
   "hash": "81794d4967e6c3204c66dcd87b604927b115b27c00565d3d43f05ba2f3a2cb0d"
  },
  "kernelspec": {
   "display_name": "Python 3.9.13 64-bit",
   "language": "python",
   "name": "python3"
  },
  "language_info": {
   "codemirror_mode": {
    "name": "ipython",
    "version": 3
   },
   "file_extension": ".py",
   "mimetype": "text/x-python",
   "name": "python",
   "nbconvert_exporter": "python",
   "pygments_lexer": "ipython3",
   "version": "3.9.13"
  },
  "orig_nbformat": 4
 },
 "nbformat": 4,
 "nbformat_minor": 2
}
